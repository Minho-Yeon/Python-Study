{
 "cells": [
  {
   "cell_type": "markdown",
   "metadata": {},
   "source": []
  },
  {
   "cell_type": "code",
   "execution_count": 1,
   "metadata": {},
   "outputs": [
    {
     "name": "stdout",
     "output_type": "stream",
     "text": [
      "<class 'int'>\n",
      "<class 'float'>\n",
      "<class 'str'>\n",
      "hello\n",
      "    sk\n",
      "\n"
     ]
    }
   ],
   "source": [
    "a=3\n",
    "b=4.3\n",
    "c='test'\n",
    "d=\"\"\"hello\n",
    "    sk\n",
    "\"\"\"\n",
    "print(type(a))\n",
    "print(type(b))\n",
    "print(type(c))\n",
    "print(d)"
   ]
  },
  {
   "cell_type": "code",
   "execution_count": 2,
   "metadata": {},
   "outputs": [
    {
     "name": "stdout",
     "output_type": "stream",
     "text": [
      "<class 'int'>\n",
      "<class 'float'>\n",
      "<class 'str'>\n"
     ]
    }
   ],
   "source": [
    "a=3\n",
    "b=4.3\n",
    "c='t'\n",
    "print(type(a))\n",
    "print(type(b))\n",
    "print(type(c))"
   ]
  },
  {
   "cell_type": "code",
   "execution_count": 3,
   "metadata": {},
   "outputs": [
    {
     "name": "stdout",
     "output_type": "stream",
     "text": [
      "Variable   Type     Data/Info\n",
      "-----------------------------\n",
      "a          int      3\n",
      "b          float    4.3\n",
      "c          str      t\n",
      "d          str      hello\\n    sk\\n\n"
     ]
    }
   ],
   "source": [
    "%whos"
   ]
  },
  {
   "cell_type": "code",
   "execution_count": 4,
   "metadata": {},
   "outputs": [
    {
     "name": "stdout",
     "output_type": "stream",
     "text": [
      "Variable   Type     Data/Info\n",
      "-----------------------------\n",
      "a          int      3\n",
      "b          float    4.3\n",
      "c          str      t\n",
      "d          str      hello\\n    sk\\n\n"
     ]
    }
   ],
   "source": [
    "%whos"
   ]
  },
  {
   "cell_type": "code",
   "execution_count": 5,
   "metadata": {},
   "outputs": [],
   "source": [
    "a= 100\n",
    "b=100\n",
    "c=300\n",
    "d=300"
   ]
  },
  {
   "cell_type": "code",
   "execution_count": 6,
   "metadata": {},
   "outputs": [
    {
     "name": "stdout",
     "output_type": "stream",
     "text": [
      "True\n"
     ]
    }
   ],
   "source": [
    "print(a is b)"
   ]
  },
  {
   "cell_type": "code",
   "execution_count": 7,
   "metadata": {},
   "outputs": [
    {
     "name": "stdout",
     "output_type": "stream",
     "text": [
      "False\n"
     ]
    }
   ],
   "source": [
    "print(c is d)"
   ]
  },
  {
   "cell_type": "code",
   "execution_count": 8,
   "metadata": {},
   "outputs": [],
   "source": [
    "d=c"
   ]
  },
  {
   "cell_type": "code",
   "execution_count": 9,
   "metadata": {},
   "outputs": [
    {
     "name": "stdout",
     "output_type": "stream",
     "text": [
      "True\n"
     ]
    }
   ],
   "source": [
    "print(c is d)"
   ]
  },
  {
   "cell_type": "code",
   "execution_count": 10,
   "metadata": {},
   "outputs": [
    {
     "name": "stdout",
     "output_type": "stream",
     "text": [
      "600\n"
     ]
    }
   ],
   "source": [
    "print(c+d)"
   ]
  },
  {
   "cell_type": "code",
   "execution_count": 11,
   "metadata": {},
   "outputs": [
    {
     "name": "stdout",
     "output_type": "stream",
     "text": [
      "140704218000880\n",
      "140704218000880\n",
      "2121346060432\n",
      "2121346060432\n"
     ]
    }
   ],
   "source": [
    "print(id(a))\n",
    "print(id(b))\n",
    "print(id(c))\n",
    "print(id(d))"
   ]
  },
  {
   "cell_type": "code",
   "execution_count": null,
   "metadata": {},
   "outputs": [],
   "source": [
    "data = input('양의 정수를 입력하세요..')\n",
    "print(data)\n",
    "print('type',type(data))\n",
    "dataInt = int(data)\n",
    "print(type(dataInt))"
   ]
  },
  {
   "cell_type": "code",
   "execution_count": null,
   "metadata": {},
   "outputs": [],
   "source": [
    "a=3 \n",
    "b=\"sk\"\n",
    "print(a,b)"
   ]
  },
  {
   "cell_type": "code",
   "execution_count": 15,
   "metadata": {},
   "outputs": [],
   "source": [
    "# 키보드로부터 초를 입력받아 ~~초는 ~~시간. ~ 분, ~ 초입니다를 출력하세요....\n",
    "data =input?"
   ]
  },
  {
   "cell_type": "code",
   "execution_count": 5,
   "metadata": {},
   "outputs": [
    {
     "name": "stdout",
     "output_type": "stream",
     "text": [
      "<class 'float'>\n"
     ]
    }
   ],
   "source": [
    "print(type(a))"
   ]
  },
  {
   "cell_type": "code",
   "execution_count": 8,
   "metadata": {},
   "outputs": [
    {
     "name": "stdout",
     "output_type": "stream",
     "text": [
      "Variable   Type    Data/Info\n",
      "----------------------------\n",
      "a          int     164\n",
      "b          int     13\n",
      "c          int     24\n",
      "data       int     591204\n",
      "dataa      str     36772\n"
     ]
    }
   ],
   "source": [
    "%whos"
   ]
  },
  {
   "cell_type": "code",
   "execution_count": 29,
   "metadata": {},
   "outputs": [
    {
     "name": "stdout",
     "output_type": "stream",
     "text": [
      "8\n",
      "5\n"
     ]
    }
   ],
   "source": [
    "test = \"20180522Rainy\"\n",
    "data = test[0:8]\n",
    "weather= test[-5:]\n",
    "print(len(data))\n",
    "print(len(weather))"
   ]
  },
  {
   "cell_type": "code",
   "execution_count": 26,
   "metadata": {},
   "outputs": [
    {
     "name": "stdout",
     "output_type": "stream",
     "text": [
      "1\n"
     ]
    }
   ],
   "source": [
    "pin = '881120-1064533'\n",
    "print(pin[7])"
   ]
  },
  {
   "cell_type": "code",
   "execution_count": 30,
   "metadata": {},
   "outputs": [],
   "source": [
    "testStr = \"SK,DRAM,4G,5000000\""
   ]
  },
  {
   "cell_type": "code",
   "execution_count": 32,
   "metadata": {},
   "outputs": [
    {
     "name": "stdout",
     "output_type": "stream",
     "text": [
      "['SK', 'DRAM', '4G', '5000000']\n"
     ]
    }
   ],
   "source": [
    "li= testStr.split(\",\")\n",
    "print(li)"
   ]
  },
  {
   "cell_type": "code",
   "execution_count": 36,
   "metadata": {},
   "outputs": [
    {
     "name": "stdout",
     "output_type": "stream",
     "text": [
      "SKDRAM4G5000000\n"
     ]
    }
   ],
   "source": [
    "re_li=\"\".join(li)\n",
    "print(re_li)"
   ]
  },
  {
   "cell_type": "code",
   "execution_count": 37,
   "metadata": {},
   "outputs": [
    {
     "name": "stdout",
     "output_type": "stream",
     "text": [
      "Variable   Type    Data/Info\n",
      "----------------------------\n",
      "a          int     164\n",
      "b          int     13\n",
      "c          int     24\n",
      "data       str     20180522\n",
      "dataa      str     36772\n",
      "li         list    n=4\n",
      "pin        str     881120-1064533\n",
      "re_li      str     SKDRAM4G5000000\n",
      "test       str     20180522Rainy\n",
      "testStr    str     SK,DRAM,4G,5000000\n",
      "weather    str     Rainy\n"
     ]
    }
   ],
   "source": [
    "%whos\n"
   ]
  },
  {
   "cell_type": "code",
   "execution_count": 39,
   "metadata": {},
   "outputs": [
    {
     "data": {
      "text/plain": [
       "{'__name__': '__main__',\n",
       " '__doc__': 'Automatically created module for IPython interactive environment',\n",
       " '__package__': None,\n",
       " '__loader__': None,\n",
       " '__spec__': None,\n",
       " '__builtin__': <module 'builtins' (built-in)>,\n",
       " '__builtins__': <module 'builtins' (built-in)>,\n",
       " '_ih': ['',\n",
       "  '# 키보드로부터 초를 입력받아 ~~초는 ~~시간. ~ 분, ~ 초입니다를 출력하세요....\\ndataa =input(\\'초를 입력하세요\\')\\ndata= (int)(dataa)\\na= data/3600\\nb= data%3600/60\\nc= data%60\\nprint(\"%d시간 %d분 %d초\" %(a, b, c))',\n",
       "  '# 키보드로부터 초를 입력받아 ~~초는 ~~시간. ~ 분, ~ 초입니다를 출력하세요....\\ndataa =input(\\'초를 입력하세요\\')\\ndata= (int)(dataa)\\na= data/3600\\nb= data%3600/60\\nc= data%60\\nprint(\"%d시간 %d분 %d초\" %(a, b, c))',\n",
       "  '# 키보드로부터 초를 입력받아 ~~초는 ~~시간. ~ 분, ~ 초입니다를 출력하세요....\\ndata =(int)(input(\\'초를 입력하세요\\'))\\n\\na= data/3600\\nb= data%3600/60\\nc= data%60\\nprint(\"%d시간 %d분 %d초\" %(a, b, c))',\n",
       "  'print(a)',\n",
       "  'print(type(a))',\n",
       "  \"get_ipython().run_line_magic('whos', '')\",\n",
       "  '# 키보드로부터 초를 입력받아 ~~초는 ~~시간. ~ 분, ~ 초입니다를 출력하세요....\\ndata =(int)(input(\\'초를 입력하세요\\'))\\n\\na= data//3600\\nb= data%3600//60\\nc= data%60\\nprint(\"%d시간 %d분 %d초\" %(a, b, c))',\n",
       "  \"get_ipython().run_line_magic('whos', '')\",\n",
       "  '# 키보드로부터 초를 입력받아 ~~초는 ~~시간. ~ 분, ~ 초입니다를 출력하세요....\\ndata =(int)(input?\\n\\na= data//3600\\nb= data%3600//60\\nc= data%60\\nprint(\"%d시간 %d분 %d초\" %(a, b, c))',\n",
       "  '# 키보드로부터 초를 입력받아 ~~초는 ~~시간. ~ 분, ~ 초입니다를 출력하세요....\\ndata =(int)(input(?\\n\\na= data//3600\\nb= data%3600//60\\nc= data%60\\nprint(\"%d시간 %d분 %d초\" %(a, b, c))',\n",
       "  \"# 키보드로부터 초를 입력받아 ~~초는 ~~시간. ~ 분, ~ 초입니다를 출력하세요....\\nget_ipython().run_line_magic('pinfo', 'input')\",\n",
       "  \"# 키보드로부터 초를 입력받아 ~~초는 ~~시간. ~ 분, ~ 초입니다를 출력하세요....\\nget_ipython().run_line_magic('pinfo', 'input')\",\n",
       "  \"# 키보드로부터 초를 입력받아 ~~초는 ~~시간. ~ 분, ~ 초입니다를 출력하세요....\\nget_ipython().run_line_magic('pinfo', 'input')\",\n",
       "  '# 키보드로부터 초를 입력받아 ~~초는 ~~시간. ~ 분, ~ 초입니다를 출력하세요....\\ndata =input(?',\n",
       "  \"# 키보드로부터 초를 입력받아 ~~초는 ~~시간. ~ 분, ~ 초입니다를 출력하세요....\\nget_ipython().run_line_magic('pinfo', 'input')\",\n",
       "  'data = \"20180522\"\\nweather= \"Rainy\"\\nprint(data+weather)',\n",
       "  \"pin = '881120-1064533'\\nprint(pin[7])\",\n",
       "  'data = \"20180522\"\\nweather= \"Rainy\"\\nprint(data[0:]+weather[0:])',\n",
       "  'data = \"20180522\"\\nweather= \"Rainy\"\\nprint(data[0:])\\n      print(weather[0:])',\n",
       "  'data = \"20180522\"\\nweather= \"Rainy\"\\nprint(data[0:])\\nprint(weather[0:])',\n",
       "  'test = \"20180522Rainy\"\\ndata = test[0:8]\\nweather= test[-5:]\\nprint(data+weather)',\n",
       "  'test = \"20180522Rainy\"\\ndata = test[0:8]\\nweather= test[-5:]\\nprint(data)\\nprint(weather)',\n",
       "  'test = \"20180522Rainy\"\\ndata = test[0:8]\\nweather= test[-5:]\\nprint(data)\\nprint(weather.len)',\n",
       "  'test = \"20180522Rainy\"\\ndata = test[0:8]\\nweather= test[-5:]\\nprint(data)\\nprint(weather.lenth)',\n",
       "  'test = \"20180522Rainy\"\\ndata = test[0:8]\\nweather= test[-5:]\\nprint(data)\\nprint(weather.length)',\n",
       "  \"pin = '881120-1064533'\\nprint(pin[7])\",\n",
       "  'test = \"20180522Rainy\"\\ndata = test[0:8]\\nweather= test[-5:]\\nprint(data)\\nprint(weather.length())',\n",
       "  'test = \"20180522Rainy\"\\ndata = test[0:8]\\nweather= test[-5:]\\nprint(data)\\nprint(len(weather))',\n",
       "  'test = \"20180522Rainy\"\\ndata = test[0:8]\\nweather= test[-5:]\\nprint(len(data))\\nprint(len(weather))',\n",
       "  'testStr = \"SK,DRAM,4G,5000000\"',\n",
       "  'li= testStr.split(,)\\nprint(li)',\n",
       "  'li= testStr.split(\",\")\\nprint(li)',\n",
       "  're_li=li.join(\",\")\\nprint(re_li)',\n",
       "  're_li=li.join(\":\")\\nprint(re_li)',\n",
       "  're_li=\":\".join(li)\\nprint(re_li)',\n",
       "  're_li=\"\".join(li)\\nprint(re_li)',\n",
       "  \"get_ipython().run_line_magic('whos', '')\",\n",
       "  'myvars = locals()\\nprint(myvars)',\n",
       "  'myvars = locals()\\nmyvars'],\n",
       " '_oh': {},\n",
       " '_dh': ['C:\\\\py_workspace\\\\day1'],\n",
       " 'In': ['',\n",
       "  '# 키보드로부터 초를 입력받아 ~~초는 ~~시간. ~ 분, ~ 초입니다를 출력하세요....\\ndataa =input(\\'초를 입력하세요\\')\\ndata= (int)(dataa)\\na= data/3600\\nb= data%3600/60\\nc= data%60\\nprint(\"%d시간 %d분 %d초\" %(a, b, c))',\n",
       "  '# 키보드로부터 초를 입력받아 ~~초는 ~~시간. ~ 분, ~ 초입니다를 출력하세요....\\ndataa =input(\\'초를 입력하세요\\')\\ndata= (int)(dataa)\\na= data/3600\\nb= data%3600/60\\nc= data%60\\nprint(\"%d시간 %d분 %d초\" %(a, b, c))',\n",
       "  '# 키보드로부터 초를 입력받아 ~~초는 ~~시간. ~ 분, ~ 초입니다를 출력하세요....\\ndata =(int)(input(\\'초를 입력하세요\\'))\\n\\na= data/3600\\nb= data%3600/60\\nc= data%60\\nprint(\"%d시간 %d분 %d초\" %(a, b, c))',\n",
       "  'print(a)',\n",
       "  'print(type(a))',\n",
       "  \"get_ipython().run_line_magic('whos', '')\",\n",
       "  '# 키보드로부터 초를 입력받아 ~~초는 ~~시간. ~ 분, ~ 초입니다를 출력하세요....\\ndata =(int)(input(\\'초를 입력하세요\\'))\\n\\na= data//3600\\nb= data%3600//60\\nc= data%60\\nprint(\"%d시간 %d분 %d초\" %(a, b, c))',\n",
       "  \"get_ipython().run_line_magic('whos', '')\",\n",
       "  '# 키보드로부터 초를 입력받아 ~~초는 ~~시간. ~ 분, ~ 초입니다를 출력하세요....\\ndata =(int)(input?\\n\\na= data//3600\\nb= data%3600//60\\nc= data%60\\nprint(\"%d시간 %d분 %d초\" %(a, b, c))',\n",
       "  '# 키보드로부터 초를 입력받아 ~~초는 ~~시간. ~ 분, ~ 초입니다를 출력하세요....\\ndata =(int)(input(?\\n\\na= data//3600\\nb= data%3600//60\\nc= data%60\\nprint(\"%d시간 %d분 %d초\" %(a, b, c))',\n",
       "  \"# 키보드로부터 초를 입력받아 ~~초는 ~~시간. ~ 분, ~ 초입니다를 출력하세요....\\nget_ipython().run_line_magic('pinfo', 'input')\",\n",
       "  \"# 키보드로부터 초를 입력받아 ~~초는 ~~시간. ~ 분, ~ 초입니다를 출력하세요....\\nget_ipython().run_line_magic('pinfo', 'input')\",\n",
       "  \"# 키보드로부터 초를 입력받아 ~~초는 ~~시간. ~ 분, ~ 초입니다를 출력하세요....\\nget_ipython().run_line_magic('pinfo', 'input')\",\n",
       "  '# 키보드로부터 초를 입력받아 ~~초는 ~~시간. ~ 분, ~ 초입니다를 출력하세요....\\ndata =input(?',\n",
       "  \"# 키보드로부터 초를 입력받아 ~~초는 ~~시간. ~ 분, ~ 초입니다를 출력하세요....\\nget_ipython().run_line_magic('pinfo', 'input')\",\n",
       "  'data = \"20180522\"\\nweather= \"Rainy\"\\nprint(data+weather)',\n",
       "  \"pin = '881120-1064533'\\nprint(pin[7])\",\n",
       "  'data = \"20180522\"\\nweather= \"Rainy\"\\nprint(data[0:]+weather[0:])',\n",
       "  'data = \"20180522\"\\nweather= \"Rainy\"\\nprint(data[0:])\\n      print(weather[0:])',\n",
       "  'data = \"20180522\"\\nweather= \"Rainy\"\\nprint(data[0:])\\nprint(weather[0:])',\n",
       "  'test = \"20180522Rainy\"\\ndata = test[0:8]\\nweather= test[-5:]\\nprint(data+weather)',\n",
       "  'test = \"20180522Rainy\"\\ndata = test[0:8]\\nweather= test[-5:]\\nprint(data)\\nprint(weather)',\n",
       "  'test = \"20180522Rainy\"\\ndata = test[0:8]\\nweather= test[-5:]\\nprint(data)\\nprint(weather.len)',\n",
       "  'test = \"20180522Rainy\"\\ndata = test[0:8]\\nweather= test[-5:]\\nprint(data)\\nprint(weather.lenth)',\n",
       "  'test = \"20180522Rainy\"\\ndata = test[0:8]\\nweather= test[-5:]\\nprint(data)\\nprint(weather.length)',\n",
       "  \"pin = '881120-1064533'\\nprint(pin[7])\",\n",
       "  'test = \"20180522Rainy\"\\ndata = test[0:8]\\nweather= test[-5:]\\nprint(data)\\nprint(weather.length())',\n",
       "  'test = \"20180522Rainy\"\\ndata = test[0:8]\\nweather= test[-5:]\\nprint(data)\\nprint(len(weather))',\n",
       "  'test = \"20180522Rainy\"\\ndata = test[0:8]\\nweather= test[-5:]\\nprint(len(data))\\nprint(len(weather))',\n",
       "  'testStr = \"SK,DRAM,4G,5000000\"',\n",
       "  'li= testStr.split(,)\\nprint(li)',\n",
       "  'li= testStr.split(\",\")\\nprint(li)',\n",
       "  're_li=li.join(\",\")\\nprint(re_li)',\n",
       "  're_li=li.join(\":\")\\nprint(re_li)',\n",
       "  're_li=\":\".join(li)\\nprint(re_li)',\n",
       "  're_li=\"\".join(li)\\nprint(re_li)',\n",
       "  \"get_ipython().run_line_magic('whos', '')\",\n",
       "  'myvars = locals()\\nprint(myvars)',\n",
       "  'myvars = locals()\\nmyvars'],\n",
       " 'Out': {},\n",
       " 'get_ipython': <bound method InteractiveShell.get_ipython of <ipykernel.zmqshell.ZMQInteractiveShell object at 0x0000017CF8C5FD88>>,\n",
       " 'exit': <IPython.core.autocall.ZMQExitAutocall at 0x17cf8cdaf48>,\n",
       " 'quit': <IPython.core.autocall.ZMQExitAutocall at 0x17cf8cdaf48>,\n",
       " '_': '',\n",
       " '__': '',\n",
       " '___': '',\n",
       " '_i': 'myvars = locals()\\nprint(myvars)',\n",
       " '_ii': '%whos',\n",
       " '_iii': 're_li=\"\".join(li)\\nprint(re_li)',\n",
       " '_i1': '# 키보드로부터 초를 입력받아 ~~초는 ~~시간. ~ 분, ~ 초입니다를 출력하세요....\\ndataa =input(\\'초를 입력하세요\\')\\ndata= (int)(dataa)\\na= data/3600\\nb= data%3600/60\\nc= data%60\\nprint(\"%d시간 %d분 %d초\" %(a, b, c))',\n",
       " 'dataa': '36772',\n",
       " 'data': '20180522',\n",
       " 'a': 164,\n",
       " 'b': 13,\n",
       " 'c': 24,\n",
       " '_i2': '# 키보드로부터 초를 입력받아 ~~초는 ~~시간. ~ 분, ~ 초입니다를 출력하세요....\\ndataa =input(\\'초를 입력하세요\\')\\ndata= (int)(dataa)\\na= data/3600\\nb= data%3600/60\\nc= data%60\\nprint(\"%d시간 %d분 %d초\" %(a, b, c))',\n",
       " '_i3': '# 키보드로부터 초를 입력받아 ~~초는 ~~시간. ~ 분, ~ 초입니다를 출력하세요....\\ndata =(int)(input(\\'초를 입력하세요\\'))\\n\\na= data/3600\\nb= data%3600/60\\nc= data%60\\nprint(\"%d시간 %d분 %d초\" %(a, b, c))',\n",
       " '_i4': 'print(a)',\n",
       " '_i5': 'print(type(a))',\n",
       " '_i6': '%whos',\n",
       " '_i7': '# 키보드로부터 초를 입력받아 ~~초는 ~~시간. ~ 분, ~ 초입니다를 출력하세요....\\ndata =(int)(input(\\'초를 입력하세요\\'))\\n\\na= data//3600\\nb= data%3600//60\\nc= data%60\\nprint(\"%d시간 %d분 %d초\" %(a, b, c))',\n",
       " '_i8': '%whos',\n",
       " '_i9': '# 키보드로부터 초를 입력받아 ~~초는 ~~시간. ~ 분, ~ 초입니다를 출력하세요....\\ndata =(int)(input?\\n\\na= data//3600\\nb= data%3600//60\\nc= data%60\\nprint(\"%d시간 %d분 %d초\" %(a, b, c))',\n",
       " '_i10': '# 키보드로부터 초를 입력받아 ~~초는 ~~시간. ~ 분, ~ 초입니다를 출력하세요....\\ndata =(int)(input(?\\n\\na= data//3600\\nb= data%3600//60\\nc= data%60\\nprint(\"%d시간 %d분 %d초\" %(a, b, c))',\n",
       " '_i11': '# 키보드로부터 초를 입력받아 ~~초는 ~~시간. ~ 분, ~ 초입니다를 출력하세요....\\ndata =(int)(input?',\n",
       " '_i12': '# 키보드로부터 초를 입력받아 ~~초는 ~~시간. ~ 분, ~ 초입니다를 출력하세요....\\ndata =input?',\n",
       " '_i13': '# 키보드로부터 초를 입력받아 ~~초는 ~~시간. ~ 분, ~ 초입니다를 출력하세요....\\ndata =input?',\n",
       " '_i14': '# 키보드로부터 초를 입력받아 ~~초는 ~~시간. ~ 분, ~ 초입니다를 출력하세요....\\ndata =input(?',\n",
       " '_i15': '# 키보드로부터 초를 입력받아 ~~초는 ~~시간. ~ 분, ~ 초입니다를 출력하세요....\\ndata =input?',\n",
       " '_i16': 'data = \"20180522\"\\nweather= \"Rainy\"\\nprint(data+weather)',\n",
       " 'weather': 'Rainy',\n",
       " '_i17': \"pin = '881120-1064533'\\nprint(pin[7])\",\n",
       " 'pin': '881120-1064533',\n",
       " '_i18': 'data = \"20180522\"\\nweather= \"Rainy\"\\nprint(data[0:]+weather[0:])',\n",
       " '_i19': 'data = \"20180522\"\\nweather= \"Rainy\"\\nprint(data[0:])\\n      print(weather[0:])',\n",
       " '_i20': 'data = \"20180522\"\\nweather= \"Rainy\"\\nprint(data[0:])\\nprint(weather[0:])',\n",
       " '_i21': 'test = \"20180522Rainy\"\\ndata = test[0:8]\\nweather= test[-5:]\\nprint(data+weather)',\n",
       " 'test': '20180522Rainy',\n",
       " '_i22': 'test = \"20180522Rainy\"\\ndata = test[0:8]\\nweather= test[-5:]\\nprint(data)\\nprint(weather)',\n",
       " '_i23': 'test = \"20180522Rainy\"\\ndata = test[0:8]\\nweather= test[-5:]\\nprint(data)\\nprint(weather.len)',\n",
       " '_i24': 'test = \"20180522Rainy\"\\ndata = test[0:8]\\nweather= test[-5:]\\nprint(data)\\nprint(weather.lenth)',\n",
       " '_i25': 'test = \"20180522Rainy\"\\ndata = test[0:8]\\nweather= test[-5:]\\nprint(data)\\nprint(weather.length)',\n",
       " '_i26': \"pin = '881120-1064533'\\nprint(pin[7])\",\n",
       " '_i27': 'test = \"20180522Rainy\"\\ndata = test[0:8]\\nweather= test[-5:]\\nprint(data)\\nprint(weather.length())',\n",
       " '_i28': 'test = \"20180522Rainy\"\\ndata = test[0:8]\\nweather= test[-5:]\\nprint(data)\\nprint(len(weather))',\n",
       " '_i29': 'test = \"20180522Rainy\"\\ndata = test[0:8]\\nweather= test[-5:]\\nprint(len(data))\\nprint(len(weather))',\n",
       " '_i30': 'testStr = \"SK,DRAM,4G,5000000\"',\n",
       " 'testStr': 'SK,DRAM,4G,5000000',\n",
       " '_i31': 'li= testStr.split(,)\\nprint(li)',\n",
       " '_i32': 'li= testStr.split(\",\")\\nprint(li)',\n",
       " 'li': ['SK', 'DRAM', '4G', '5000000'],\n",
       " '_i33': 're_li=li.join(\",\")\\nprint(re_li)',\n",
       " '_i34': 're_li=li.join(\":\")\\nprint(re_li)',\n",
       " '_i35': 're_li=\":\".join(li)\\nprint(re_li)',\n",
       " 're_li': 'SKDRAM4G5000000',\n",
       " '_i36': 're_li=\"\".join(li)\\nprint(re_li)',\n",
       " '_i37': '%whos',\n",
       " '_i38': 'myvars = locals()\\nprint(myvars)',\n",
       " 'myvars': {...},\n",
       " '_i39': 'myvars = locals()\\nmyvars'}"
      ]
     },
     "execution_count": 39,
     "metadata": {},
     "output_type": "execute_result"
    }
   ],
   "source": [
    "myvars = locals()\n",
    "myvars"
   ]
  },
  {
   "cell_type": "markdown",
   "metadata": {},
   "source": [
    "## LIST"
   ]
  },
  {
   "cell_type": "code",
   "execution_count": 43,
   "metadata": {},
   "outputs": [
    {
     "name": "stdout",
     "output_type": "stream",
     "text": [
      "[3, 4, 10, 7, 8, 20, 100]\n",
      "['a', 'b', 'c', 'd']\n"
     ]
    },
    {
     "ename": "TypeError",
     "evalue": "'int' object is not iterable",
     "output_type": "error",
     "traceback": [
      "\u001b[1;31m---------------------------------------------------------------------------\u001b[0m",
      "\u001b[1;31mTypeError\u001b[0m                                 Traceback (most recent call last)",
      "\u001b[1;32m<ipython-input-43-be66b12236fb>\u001b[0m in \u001b[0;36m<module>\u001b[1;34m\u001b[0m\n\u001b[0;32m      3\u001b[0m \u001b[0mbbL\u001b[0m \u001b[1;33m=\u001b[0m \u001b[0mlist\u001b[0m\u001b[1;33m(\u001b[0m\u001b[1;34m'abcd'\u001b[0m\u001b[1;33m)\u001b[0m\u001b[1;33m\u001b[0m\u001b[1;33m\u001b[0m\u001b[0m\n\u001b[0;32m      4\u001b[0m \u001b[0mprint\u001b[0m\u001b[1;33m(\u001b[0m\u001b[0mbbL\u001b[0m\u001b[1;33m)\u001b[0m\u001b[1;33m\u001b[0m\u001b[1;33m\u001b[0m\u001b[0m\n\u001b[1;32m----> 5\u001b[1;33m \u001b[0maal\u001b[0m \u001b[1;33m=\u001b[0m \u001b[0mlist\u001b[0m\u001b[1;33m(\u001b[0m\u001b[1;36m1234\u001b[0m\u001b[1;33m)\u001b[0m\u001b[1;33m\u001b[0m\u001b[1;33m\u001b[0m\u001b[0m\n\u001b[0m\u001b[0;32m      6\u001b[0m \u001b[0mprint\u001b[0m\u001b[1;33m(\u001b[0m\u001b[0maal\u001b[0m\u001b[1;33m)\u001b[0m\u001b[1;33m\u001b[0m\u001b[1;33m\u001b[0m\u001b[0m\n",
      "\u001b[1;31mTypeError\u001b[0m: 'int' object is not iterable"
     ]
    }
   ],
   "source": [
    "myList = [3, 4 , 10, 7, 8, 20, 100]\n",
    "print(myList)\n",
    "bbL = list('abcd')\n",
    "print(bbL)\n",
    "aal = list(1234)\n",
    "print(aal)"
   ]
  },
  {
   "cell_type": "code",
   "execution_count": 51,
   "metadata": {},
   "outputs": [
    {
     "name": "stdout",
     "output_type": "stream",
     "text": [
      "[1000, 1000, 1000, 1000, 3, 4, 10, 7, 8, 20, 100, -100, -100, 1000, -100]\n"
     ]
    }
   ],
   "source": [
    "#print(myList.append(-100))\n",
    "myList.insert(-0,1000)\n",
    "print(myList)"
   ]
  },
  {
   "cell_type": "code",
   "execution_count": 52,
   "metadata": {},
   "outputs": [],
   "source": [
    "myList[-1]=300"
   ]
  },
  {
   "cell_type": "code",
   "execution_count": 53,
   "metadata": {},
   "outputs": [
    {
     "name": "stdout",
     "output_type": "stream",
     "text": [
      "[1000, 1000, 1000, 1000, 3, 4, 10, 7, 8, 20, 100, -100, -100, 1000, 300]\n"
     ]
    }
   ],
   "source": [
    "print(myList)"
   ]
  },
  {
   "cell_type": "code",
   "execution_count": 54,
   "metadata": {},
   "outputs": [
    {
     "data": {
      "text/plain": [
       "[1000, 1000, 1000, 1000, 3, 4, 10, 7, 8, 20, 100, -100, -100, 1000, 300]"
      ]
     },
     "execution_count": 54,
     "metadata": {},
     "output_type": "execute_result"
    }
   ],
   "source": [
    "myList"
   ]
  },
  {
   "cell_type": "code",
   "execution_count": 59,
   "metadata": {},
   "outputs": [],
   "source": [
    "aaL=myList[4:]"
   ]
  },
  {
   "cell_type": "code",
   "execution_count": 60,
   "metadata": {},
   "outputs": [
    {
     "name": "stdout",
     "output_type": "stream",
     "text": [
      "[3, 4, 10, 7, 8, 20, 100, -100, -100, 1000, 300]\n",
      "[3, 4, 7, 8, 20, 100, -100, -100, 1000, 300]\n"
     ]
    }
   ],
   "source": [
    "#index를 알고 있는 경우..........\n",
    "print(aaL)\n",
    "del aaL[2]\n",
    "print(aaL)"
   ]
  },
  {
   "cell_type": "code",
   "execution_count": 65,
   "metadata": {},
   "outputs": [
    {
     "name": "stdout",
     "output_type": "stream",
     "text": [
      "[3, 4, 7, 8, 20, 100, -100, 1000, 300]\n"
     ]
    }
   ],
   "source": [
    "print(aaL)"
   ]
  },
  {
   "cell_type": "code",
   "execution_count": 61,
   "metadata": {},
   "outputs": [],
   "source": [
    "myvars = locals()"
   ]
  },
  {
   "cell_type": "code",
   "execution_count": 62,
   "metadata": {},
   "outputs": [
    {
     "data": {
      "text/plain": [
       "{'__name__': '__main__',\n",
       " '__doc__': 'Automatically created module for IPython interactive environment',\n",
       " '__package__': None,\n",
       " '__loader__': None,\n",
       " '__spec__': None,\n",
       " '__builtin__': <module 'builtins' (built-in)>,\n",
       " '__builtins__': <module 'builtins' (built-in)>,\n",
       " '_ih': ['',\n",
       "  '# 키보드로부터 초를 입력받아 ~~초는 ~~시간. ~ 분, ~ 초입니다를 출력하세요....\\ndataa =input(\\'초를 입력하세요\\')\\ndata= (int)(dataa)\\na= data/3600\\nb= data%3600/60\\nc= data%60\\nprint(\"%d시간 %d분 %d초\" %(a, b, c))',\n",
       "  '# 키보드로부터 초를 입력받아 ~~초는 ~~시간. ~ 분, ~ 초입니다를 출력하세요....\\ndataa =input(\\'초를 입력하세요\\')\\ndata= (int)(dataa)\\na= data/3600\\nb= data%3600/60\\nc= data%60\\nprint(\"%d시간 %d분 %d초\" %(a, b, c))',\n",
       "  '# 키보드로부터 초를 입력받아 ~~초는 ~~시간. ~ 분, ~ 초입니다를 출력하세요....\\ndata =(int)(input(\\'초를 입력하세요\\'))\\n\\na= data/3600\\nb= data%3600/60\\nc= data%60\\nprint(\"%d시간 %d분 %d초\" %(a, b, c))',\n",
       "  'print(a)',\n",
       "  'print(type(a))',\n",
       "  \"get_ipython().run_line_magic('whos', '')\",\n",
       "  '# 키보드로부터 초를 입력받아 ~~초는 ~~시간. ~ 분, ~ 초입니다를 출력하세요....\\ndata =(int)(input(\\'초를 입력하세요\\'))\\n\\na= data//3600\\nb= data%3600//60\\nc= data%60\\nprint(\"%d시간 %d분 %d초\" %(a, b, c))',\n",
       "  \"get_ipython().run_line_magic('whos', '')\",\n",
       "  '# 키보드로부터 초를 입력받아 ~~초는 ~~시간. ~ 분, ~ 초입니다를 출력하세요....\\ndata =(int)(input?\\n\\na= data//3600\\nb= data%3600//60\\nc= data%60\\nprint(\"%d시간 %d분 %d초\" %(a, b, c))',\n",
       "  '# 키보드로부터 초를 입력받아 ~~초는 ~~시간. ~ 분, ~ 초입니다를 출력하세요....\\ndata =(int)(input(?\\n\\na= data//3600\\nb= data%3600//60\\nc= data%60\\nprint(\"%d시간 %d분 %d초\" %(a, b, c))',\n",
       "  \"# 키보드로부터 초를 입력받아 ~~초는 ~~시간. ~ 분, ~ 초입니다를 출력하세요....\\nget_ipython().run_line_magic('pinfo', 'input')\",\n",
       "  \"# 키보드로부터 초를 입력받아 ~~초는 ~~시간. ~ 분, ~ 초입니다를 출력하세요....\\nget_ipython().run_line_magic('pinfo', 'input')\",\n",
       "  \"# 키보드로부터 초를 입력받아 ~~초는 ~~시간. ~ 분, ~ 초입니다를 출력하세요....\\nget_ipython().run_line_magic('pinfo', 'input')\",\n",
       "  '# 키보드로부터 초를 입력받아 ~~초는 ~~시간. ~ 분, ~ 초입니다를 출력하세요....\\ndata =input(?',\n",
       "  \"# 키보드로부터 초를 입력받아 ~~초는 ~~시간. ~ 분, ~ 초입니다를 출력하세요....\\nget_ipython().run_line_magic('pinfo', 'input')\",\n",
       "  'data = \"20180522\"\\nweather= \"Rainy\"\\nprint(data+weather)',\n",
       "  \"pin = '881120-1064533'\\nprint(pin[7])\",\n",
       "  'data = \"20180522\"\\nweather= \"Rainy\"\\nprint(data[0:]+weather[0:])',\n",
       "  'data = \"20180522\"\\nweather= \"Rainy\"\\nprint(data[0:])\\n      print(weather[0:])',\n",
       "  'data = \"20180522\"\\nweather= \"Rainy\"\\nprint(data[0:])\\nprint(weather[0:])',\n",
       "  'test = \"20180522Rainy\"\\ndata = test[0:8]\\nweather= test[-5:]\\nprint(data+weather)',\n",
       "  'test = \"20180522Rainy\"\\ndata = test[0:8]\\nweather= test[-5:]\\nprint(data)\\nprint(weather)',\n",
       "  'test = \"20180522Rainy\"\\ndata = test[0:8]\\nweather= test[-5:]\\nprint(data)\\nprint(weather.len)',\n",
       "  'test = \"20180522Rainy\"\\ndata = test[0:8]\\nweather= test[-5:]\\nprint(data)\\nprint(weather.lenth)',\n",
       "  'test = \"20180522Rainy\"\\ndata = test[0:8]\\nweather= test[-5:]\\nprint(data)\\nprint(weather.length)',\n",
       "  \"pin = '881120-1064533'\\nprint(pin[7])\",\n",
       "  'test = \"20180522Rainy\"\\ndata = test[0:8]\\nweather= test[-5:]\\nprint(data)\\nprint(weather.length())',\n",
       "  'test = \"20180522Rainy\"\\ndata = test[0:8]\\nweather= test[-5:]\\nprint(data)\\nprint(len(weather))',\n",
       "  'test = \"20180522Rainy\"\\ndata = test[0:8]\\nweather= test[-5:]\\nprint(len(data))\\nprint(len(weather))',\n",
       "  'testStr = \"SK,DRAM,4G,5000000\"',\n",
       "  'li= testStr.split(,)\\nprint(li)',\n",
       "  'li= testStr.split(\",\")\\nprint(li)',\n",
       "  're_li=li.join(\",\")\\nprint(re_li)',\n",
       "  're_li=li.join(\":\")\\nprint(re_li)',\n",
       "  're_li=\":\".join(li)\\nprint(re_li)',\n",
       "  're_li=\"\".join(li)\\nprint(re_li)',\n",
       "  \"get_ipython().run_line_magic('whos', '')\",\n",
       "  'myvars = locals()\\nprint(myvars)',\n",
       "  'myvars = locals()\\nmyvars',\n",
       "  'def hello()\\n    print(\"ddd\")',\n",
       "  'myList = [3, 4 , 10, 7, 8, 20, 100]\\nprint(myList)',\n",
       "  \"myList = [3, 4 , 10, 7, 8, 20, 100]\\nprint(myList)\\nbbL = list('abcd')\\nprint(bbL)\",\n",
       "  \"myList = [3, 4 , 10, 7, 8, 20, 100]\\nprint(myList)\\nbbL = list('abcd')\\nprint(bbL)\\naal = list(1234)\\nprint(aal)\",\n",
       "  'print(myList.append(-100))',\n",
       "  'print(myList.append(-100))\\nprint(aaL)',\n",
       "  'print(myList.append(-100))\\nprint(myList)',\n",
       "  '#print(myList.append(-100))\\nmyList.insert(-1,1000)\\nprint(myList)',\n",
       "  '#print(myList.append(-100))\\nmyList.insert(0,1000)\\nprint(myList)',\n",
       "  '#print(myList.append(-100))\\nmyList.insert(0,1000)\\nprint(myList)',\n",
       "  '#print(myList.append(-100))\\nmyList.insert(0,1000)\\nprint(myList)',\n",
       "  '#print(myList.append(-100))\\nmyList.insert(-0,1000)\\nprint(myList)',\n",
       "  'myList[-1]=300',\n",
       "  'print(myList)',\n",
       "  'myList',\n",
       "  'print(myList.slice(7))',\n",
       "  'print(myList[0:8])',\n",
       "  'li = myList[0:8]\\nprint(li)\\nli[2]=-7\\nprint(li)',\n",
       "  'li = myList[0:8]\\nprint(li)\\nli[2]=-7\\nprint(li)\\nprint(myList)',\n",
       "  'aaL=myList[4:]',\n",
       "  '#index를 알고 있는 경우..........\\nprint(aaL)\\ndel aaL[2]\\nprint(aaL)',\n",
       "  'myvars = locals()',\n",
       "  'myvars'],\n",
       " '_oh': {39: {...},\n",
       "  54: [1000,\n",
       "   1000,\n",
       "   1000,\n",
       "   1000,\n",
       "   3,\n",
       "   4,\n",
       "   10,\n",
       "   7,\n",
       "   8,\n",
       "   20,\n",
       "   100,\n",
       "   -100,\n",
       "   -100,\n",
       "   1000,\n",
       "   300]},\n",
       " '_dh': ['C:\\\\py_workspace\\\\day1'],\n",
       " 'In': ['',\n",
       "  '# 키보드로부터 초를 입력받아 ~~초는 ~~시간. ~ 분, ~ 초입니다를 출력하세요....\\ndataa =input(\\'초를 입력하세요\\')\\ndata= (int)(dataa)\\na= data/3600\\nb= data%3600/60\\nc= data%60\\nprint(\"%d시간 %d분 %d초\" %(a, b, c))',\n",
       "  '# 키보드로부터 초를 입력받아 ~~초는 ~~시간. ~ 분, ~ 초입니다를 출력하세요....\\ndataa =input(\\'초를 입력하세요\\')\\ndata= (int)(dataa)\\na= data/3600\\nb= data%3600/60\\nc= data%60\\nprint(\"%d시간 %d분 %d초\" %(a, b, c))',\n",
       "  '# 키보드로부터 초를 입력받아 ~~초는 ~~시간. ~ 분, ~ 초입니다를 출력하세요....\\ndata =(int)(input(\\'초를 입력하세요\\'))\\n\\na= data/3600\\nb= data%3600/60\\nc= data%60\\nprint(\"%d시간 %d분 %d초\" %(a, b, c))',\n",
       "  'print(a)',\n",
       "  'print(type(a))',\n",
       "  \"get_ipython().run_line_magic('whos', '')\",\n",
       "  '# 키보드로부터 초를 입력받아 ~~초는 ~~시간. ~ 분, ~ 초입니다를 출력하세요....\\ndata =(int)(input(\\'초를 입력하세요\\'))\\n\\na= data//3600\\nb= data%3600//60\\nc= data%60\\nprint(\"%d시간 %d분 %d초\" %(a, b, c))',\n",
       "  \"get_ipython().run_line_magic('whos', '')\",\n",
       "  '# 키보드로부터 초를 입력받아 ~~초는 ~~시간. ~ 분, ~ 초입니다를 출력하세요....\\ndata =(int)(input?\\n\\na= data//3600\\nb= data%3600//60\\nc= data%60\\nprint(\"%d시간 %d분 %d초\" %(a, b, c))',\n",
       "  '# 키보드로부터 초를 입력받아 ~~초는 ~~시간. ~ 분, ~ 초입니다를 출력하세요....\\ndata =(int)(input(?\\n\\na= data//3600\\nb= data%3600//60\\nc= data%60\\nprint(\"%d시간 %d분 %d초\" %(a, b, c))',\n",
       "  \"# 키보드로부터 초를 입력받아 ~~초는 ~~시간. ~ 분, ~ 초입니다를 출력하세요....\\nget_ipython().run_line_magic('pinfo', 'input')\",\n",
       "  \"# 키보드로부터 초를 입력받아 ~~초는 ~~시간. ~ 분, ~ 초입니다를 출력하세요....\\nget_ipython().run_line_magic('pinfo', 'input')\",\n",
       "  \"# 키보드로부터 초를 입력받아 ~~초는 ~~시간. ~ 분, ~ 초입니다를 출력하세요....\\nget_ipython().run_line_magic('pinfo', 'input')\",\n",
       "  '# 키보드로부터 초를 입력받아 ~~초는 ~~시간. ~ 분, ~ 초입니다를 출력하세요....\\ndata =input(?',\n",
       "  \"# 키보드로부터 초를 입력받아 ~~초는 ~~시간. ~ 분, ~ 초입니다를 출력하세요....\\nget_ipython().run_line_magic('pinfo', 'input')\",\n",
       "  'data = \"20180522\"\\nweather= \"Rainy\"\\nprint(data+weather)',\n",
       "  \"pin = '881120-1064533'\\nprint(pin[7])\",\n",
       "  'data = \"20180522\"\\nweather= \"Rainy\"\\nprint(data[0:]+weather[0:])',\n",
       "  'data = \"20180522\"\\nweather= \"Rainy\"\\nprint(data[0:])\\n      print(weather[0:])',\n",
       "  'data = \"20180522\"\\nweather= \"Rainy\"\\nprint(data[0:])\\nprint(weather[0:])',\n",
       "  'test = \"20180522Rainy\"\\ndata = test[0:8]\\nweather= test[-5:]\\nprint(data+weather)',\n",
       "  'test = \"20180522Rainy\"\\ndata = test[0:8]\\nweather= test[-5:]\\nprint(data)\\nprint(weather)',\n",
       "  'test = \"20180522Rainy\"\\ndata = test[0:8]\\nweather= test[-5:]\\nprint(data)\\nprint(weather.len)',\n",
       "  'test = \"20180522Rainy\"\\ndata = test[0:8]\\nweather= test[-5:]\\nprint(data)\\nprint(weather.lenth)',\n",
       "  'test = \"20180522Rainy\"\\ndata = test[0:8]\\nweather= test[-5:]\\nprint(data)\\nprint(weather.length)',\n",
       "  \"pin = '881120-1064533'\\nprint(pin[7])\",\n",
       "  'test = \"20180522Rainy\"\\ndata = test[0:8]\\nweather= test[-5:]\\nprint(data)\\nprint(weather.length())',\n",
       "  'test = \"20180522Rainy\"\\ndata = test[0:8]\\nweather= test[-5:]\\nprint(data)\\nprint(len(weather))',\n",
       "  'test = \"20180522Rainy\"\\ndata = test[0:8]\\nweather= test[-5:]\\nprint(len(data))\\nprint(len(weather))',\n",
       "  'testStr = \"SK,DRAM,4G,5000000\"',\n",
       "  'li= testStr.split(,)\\nprint(li)',\n",
       "  'li= testStr.split(\",\")\\nprint(li)',\n",
       "  're_li=li.join(\",\")\\nprint(re_li)',\n",
       "  're_li=li.join(\":\")\\nprint(re_li)',\n",
       "  're_li=\":\".join(li)\\nprint(re_li)',\n",
       "  're_li=\"\".join(li)\\nprint(re_li)',\n",
       "  \"get_ipython().run_line_magic('whos', '')\",\n",
       "  'myvars = locals()\\nprint(myvars)',\n",
       "  'myvars = locals()\\nmyvars',\n",
       "  'def hello()\\n    print(\"ddd\")',\n",
       "  'myList = [3, 4 , 10, 7, 8, 20, 100]\\nprint(myList)',\n",
       "  \"myList = [3, 4 , 10, 7, 8, 20, 100]\\nprint(myList)\\nbbL = list('abcd')\\nprint(bbL)\",\n",
       "  \"myList = [3, 4 , 10, 7, 8, 20, 100]\\nprint(myList)\\nbbL = list('abcd')\\nprint(bbL)\\naal = list(1234)\\nprint(aal)\",\n",
       "  'print(myList.append(-100))',\n",
       "  'print(myList.append(-100))\\nprint(aaL)',\n",
       "  'print(myList.append(-100))\\nprint(myList)',\n",
       "  '#print(myList.append(-100))\\nmyList.insert(-1,1000)\\nprint(myList)',\n",
       "  '#print(myList.append(-100))\\nmyList.insert(0,1000)\\nprint(myList)',\n",
       "  '#print(myList.append(-100))\\nmyList.insert(0,1000)\\nprint(myList)',\n",
       "  '#print(myList.append(-100))\\nmyList.insert(0,1000)\\nprint(myList)',\n",
       "  '#print(myList.append(-100))\\nmyList.insert(-0,1000)\\nprint(myList)',\n",
       "  'myList[-1]=300',\n",
       "  'print(myList)',\n",
       "  'myList',\n",
       "  'print(myList.slice(7))',\n",
       "  'print(myList[0:8])',\n",
       "  'li = myList[0:8]\\nprint(li)\\nli[2]=-7\\nprint(li)',\n",
       "  'li = myList[0:8]\\nprint(li)\\nli[2]=-7\\nprint(li)\\nprint(myList)',\n",
       "  'aaL=myList[4:]',\n",
       "  '#index를 알고 있는 경우..........\\nprint(aaL)\\ndel aaL[2]\\nprint(aaL)',\n",
       "  'myvars = locals()',\n",
       "  'myvars'],\n",
       " 'Out': {39: {...},\n",
       "  54: [1000,\n",
       "   1000,\n",
       "   1000,\n",
       "   1000,\n",
       "   3,\n",
       "   4,\n",
       "   10,\n",
       "   7,\n",
       "   8,\n",
       "   20,\n",
       "   100,\n",
       "   -100,\n",
       "   -100,\n",
       "   1000,\n",
       "   300]},\n",
       " 'get_ipython': <bound method InteractiveShell.get_ipython of <ipykernel.zmqshell.ZMQInteractiveShell object at 0x0000017CF8C5FD88>>,\n",
       " 'exit': <IPython.core.autocall.ZMQExitAutocall at 0x17cf8cdaf48>,\n",
       " 'quit': <IPython.core.autocall.ZMQExitAutocall at 0x17cf8cdaf48>,\n",
       " '_': [1000, 1000, 1000, 1000, 3, 4, 10, 7, 8, 20, 100, -100, -100, 1000, 300],\n",
       " '__': {...},\n",
       " '___': '',\n",
       " '_i': 'myvars = locals()',\n",
       " '_ii': '#index를 알고 있는 경우..........\\nprint(aaL)\\ndel aaL[2]\\nprint(aaL)',\n",
       " '_iii': 'aaL=myList[4:]',\n",
       " '_i1': '# 키보드로부터 초를 입력받아 ~~초는 ~~시간. ~ 분, ~ 초입니다를 출력하세요....\\ndataa =input(\\'초를 입력하세요\\')\\ndata= (int)(dataa)\\na= data/3600\\nb= data%3600/60\\nc= data%60\\nprint(\"%d시간 %d분 %d초\" %(a, b, c))',\n",
       " 'dataa': '36772',\n",
       " 'data': '20180522',\n",
       " 'a': 164,\n",
       " 'b': 13,\n",
       " 'c': 24,\n",
       " '_i2': '# 키보드로부터 초를 입력받아 ~~초는 ~~시간. ~ 분, ~ 초입니다를 출력하세요....\\ndataa =input(\\'초를 입력하세요\\')\\ndata= (int)(dataa)\\na= data/3600\\nb= data%3600/60\\nc= data%60\\nprint(\"%d시간 %d분 %d초\" %(a, b, c))',\n",
       " '_i3': '# 키보드로부터 초를 입력받아 ~~초는 ~~시간. ~ 분, ~ 초입니다를 출력하세요....\\ndata =(int)(input(\\'초를 입력하세요\\'))\\n\\na= data/3600\\nb= data%3600/60\\nc= data%60\\nprint(\"%d시간 %d분 %d초\" %(a, b, c))',\n",
       " '_i4': 'print(a)',\n",
       " '_i5': 'print(type(a))',\n",
       " '_i6': '%whos',\n",
       " '_i7': '# 키보드로부터 초를 입력받아 ~~초는 ~~시간. ~ 분, ~ 초입니다를 출력하세요....\\ndata =(int)(input(\\'초를 입력하세요\\'))\\n\\na= data//3600\\nb= data%3600//60\\nc= data%60\\nprint(\"%d시간 %d분 %d초\" %(a, b, c))',\n",
       " '_i8': '%whos',\n",
       " '_i9': '# 키보드로부터 초를 입력받아 ~~초는 ~~시간. ~ 분, ~ 초입니다를 출력하세요....\\ndata =(int)(input?\\n\\na= data//3600\\nb= data%3600//60\\nc= data%60\\nprint(\"%d시간 %d분 %d초\" %(a, b, c))',\n",
       " '_i10': '# 키보드로부터 초를 입력받아 ~~초는 ~~시간. ~ 분, ~ 초입니다를 출력하세요....\\ndata =(int)(input(?\\n\\na= data//3600\\nb= data%3600//60\\nc= data%60\\nprint(\"%d시간 %d분 %d초\" %(a, b, c))',\n",
       " '_i11': '# 키보드로부터 초를 입력받아 ~~초는 ~~시간. ~ 분, ~ 초입니다를 출력하세요....\\ndata =(int)(input?',\n",
       " '_i12': '# 키보드로부터 초를 입력받아 ~~초는 ~~시간. ~ 분, ~ 초입니다를 출력하세요....\\ndata =input?',\n",
       " '_i13': '# 키보드로부터 초를 입력받아 ~~초는 ~~시간. ~ 분, ~ 초입니다를 출력하세요....\\ndata =input?',\n",
       " '_i14': '# 키보드로부터 초를 입력받아 ~~초는 ~~시간. ~ 분, ~ 초입니다를 출력하세요....\\ndata =input(?',\n",
       " '_i15': '# 키보드로부터 초를 입력받아 ~~초는 ~~시간. ~ 분, ~ 초입니다를 출력하세요....\\ndata =input?',\n",
       " '_i16': 'data = \"20180522\"\\nweather= \"Rainy\"\\nprint(data+weather)',\n",
       " 'weather': 'Rainy',\n",
       " '_i17': \"pin = '881120-1064533'\\nprint(pin[7])\",\n",
       " 'pin': '881120-1064533',\n",
       " '_i18': 'data = \"20180522\"\\nweather= \"Rainy\"\\nprint(data[0:]+weather[0:])',\n",
       " '_i19': 'data = \"20180522\"\\nweather= \"Rainy\"\\nprint(data[0:])\\n      print(weather[0:])',\n",
       " '_i20': 'data = \"20180522\"\\nweather= \"Rainy\"\\nprint(data[0:])\\nprint(weather[0:])',\n",
       " '_i21': 'test = \"20180522Rainy\"\\ndata = test[0:8]\\nweather= test[-5:]\\nprint(data+weather)',\n",
       " 'test': '20180522Rainy',\n",
       " '_i22': 'test = \"20180522Rainy\"\\ndata = test[0:8]\\nweather= test[-5:]\\nprint(data)\\nprint(weather)',\n",
       " '_i23': 'test = \"20180522Rainy\"\\ndata = test[0:8]\\nweather= test[-5:]\\nprint(data)\\nprint(weather.len)',\n",
       " '_i24': 'test = \"20180522Rainy\"\\ndata = test[0:8]\\nweather= test[-5:]\\nprint(data)\\nprint(weather.lenth)',\n",
       " '_i25': 'test = \"20180522Rainy\"\\ndata = test[0:8]\\nweather= test[-5:]\\nprint(data)\\nprint(weather.length)',\n",
       " '_i26': \"pin = '881120-1064533'\\nprint(pin[7])\",\n",
       " '_i27': 'test = \"20180522Rainy\"\\ndata = test[0:8]\\nweather= test[-5:]\\nprint(data)\\nprint(weather.length())',\n",
       " '_i28': 'test = \"20180522Rainy\"\\ndata = test[0:8]\\nweather= test[-5:]\\nprint(data)\\nprint(len(weather))',\n",
       " '_i29': 'test = \"20180522Rainy\"\\ndata = test[0:8]\\nweather= test[-5:]\\nprint(len(data))\\nprint(len(weather))',\n",
       " '_i30': 'testStr = \"SK,DRAM,4G,5000000\"',\n",
       " 'testStr': 'SK,DRAM,4G,5000000',\n",
       " '_i31': 'li= testStr.split(,)\\nprint(li)',\n",
       " '_i32': 'li= testStr.split(\",\")\\nprint(li)',\n",
       " 'li': [1000, 1000, -7, 1000, 3, 4, 10, 7],\n",
       " '_i33': 're_li=li.join(\",\")\\nprint(re_li)',\n",
       " '_i34': 're_li=li.join(\":\")\\nprint(re_li)',\n",
       " '_i35': 're_li=\":\".join(li)\\nprint(re_li)',\n",
       " 're_li': 'SKDRAM4G5000000',\n",
       " '_i36': 're_li=\"\".join(li)\\nprint(re_li)',\n",
       " '_i37': '%whos',\n",
       " '_i38': 'myvars = locals()\\nprint(myvars)',\n",
       " 'myvars': {...},\n",
       " '_i39': 'myvars = locals()\\nmyvars',\n",
       " '_39': {...},\n",
       " '_i40': 'def hello()\\n    print(\"ddd\")',\n",
       " '_i41': 'myList = [3, 4 , 10, 7, 8, 20, 100]\\nprint(myList)',\n",
       " 'myList': [1000,\n",
       "  1000,\n",
       "  1000,\n",
       "  1000,\n",
       "  3,\n",
       "  4,\n",
       "  10,\n",
       "  7,\n",
       "  8,\n",
       "  20,\n",
       "  100,\n",
       "  -100,\n",
       "  -100,\n",
       "  1000,\n",
       "  300],\n",
       " '_i42': \"myList = [3, 4 , 10, 7, 8, 20, 100]\\nprint(myList)\\nbbL = list('abcd')\\nprint(bbL)\",\n",
       " 'bbL': ['a', 'b', 'c', 'd'],\n",
       " '_i43': \"myList = [3, 4 , 10, 7, 8, 20, 100]\\nprint(myList)\\nbbL = list('abcd')\\nprint(bbL)\\naal = list(1234)\\nprint(aal)\",\n",
       " '_i44': 'print(myList.append(-100))',\n",
       " '_i45': 'print(myList.append(-100))\\nprint(aaL)',\n",
       " '_i46': 'print(myList.append(-100))\\nprint(myList)',\n",
       " '_i47': '#print(myList.append(-100))\\nmyList.insert(-1,1000)\\nprint(myList)',\n",
       " '_i48': '#print(myList.append(-100))\\nmyList.insert(0,1000)\\nprint(myList)',\n",
       " '_i49': '#print(myList.append(-100))\\nmyList.insert(0,1000)\\nprint(myList)',\n",
       " '_i50': '#print(myList.append(-100))\\nmyList.insert(0,1000)\\nprint(myList)',\n",
       " '_i51': '#print(myList.append(-100))\\nmyList.insert(-0,1000)\\nprint(myList)',\n",
       " '_i52': 'myList[-1]=300',\n",
       " '_i53': 'print(myList)',\n",
       " '_i54': 'myList',\n",
       " '_54': [1000,\n",
       "  1000,\n",
       "  1000,\n",
       "  1000,\n",
       "  3,\n",
       "  4,\n",
       "  10,\n",
       "  7,\n",
       "  8,\n",
       "  20,\n",
       "  100,\n",
       "  -100,\n",
       "  -100,\n",
       "  1000,\n",
       "  300],\n",
       " '_i55': 'print(myList.slice(7))',\n",
       " '_i56': 'print(myList[0:8])',\n",
       " '_i57': 'li = myList[0:8]\\nprint(li)\\nli[2]=-7\\nprint(li)',\n",
       " '_i58': 'li = myList[0:8]\\nprint(li)\\nli[2]=-7\\nprint(li)\\nprint(myList)',\n",
       " '_i59': 'aaL=myList[4:]',\n",
       " 'aaL': [3, 4, 7, 8, 20, 100, -100, -100, 1000, 300],\n",
       " '_i60': '#index를 알고 있는 경우..........\\nprint(aaL)\\ndel aaL[2]\\nprint(aaL)',\n",
       " '_i61': 'myvars = locals()',\n",
       " '_i62': 'myvars'}"
      ]
     },
     "execution_count": 62,
     "metadata": {},
     "output_type": "execute_result"
    }
   ],
   "source": [
    "myvars"
   ]
  },
  {
   "cell_type": "code",
   "execution_count": 63,
   "metadata": {},
   "outputs": [
    {
     "data": {
      "text/plain": [
       "['ArithmeticError',\n",
       " 'AssertionError',\n",
       " 'AttributeError',\n",
       " 'BaseException',\n",
       " 'BlockingIOError',\n",
       " 'BrokenPipeError',\n",
       " 'BufferError',\n",
       " 'BytesWarning',\n",
       " 'ChildProcessError',\n",
       " 'ConnectionAbortedError',\n",
       " 'ConnectionError',\n",
       " 'ConnectionRefusedError',\n",
       " 'ConnectionResetError',\n",
       " 'DeprecationWarning',\n",
       " 'EOFError',\n",
       " 'Ellipsis',\n",
       " 'EnvironmentError',\n",
       " 'Exception',\n",
       " 'False',\n",
       " 'FileExistsError',\n",
       " 'FileNotFoundError',\n",
       " 'FloatingPointError',\n",
       " 'FutureWarning',\n",
       " 'GeneratorExit',\n",
       " 'IOError',\n",
       " 'ImportError',\n",
       " 'ImportWarning',\n",
       " 'IndentationError',\n",
       " 'IndexError',\n",
       " 'InterruptedError',\n",
       " 'IsADirectoryError',\n",
       " 'KeyError',\n",
       " 'KeyboardInterrupt',\n",
       " 'LookupError',\n",
       " 'MemoryError',\n",
       " 'ModuleNotFoundError',\n",
       " 'NameError',\n",
       " 'None',\n",
       " 'NotADirectoryError',\n",
       " 'NotImplemented',\n",
       " 'NotImplementedError',\n",
       " 'OSError',\n",
       " 'OverflowError',\n",
       " 'PendingDeprecationWarning',\n",
       " 'PermissionError',\n",
       " 'ProcessLookupError',\n",
       " 'RecursionError',\n",
       " 'ReferenceError',\n",
       " 'ResourceWarning',\n",
       " 'RuntimeError',\n",
       " 'RuntimeWarning',\n",
       " 'StopAsyncIteration',\n",
       " 'StopIteration',\n",
       " 'SyntaxError',\n",
       " 'SyntaxWarning',\n",
       " 'SystemError',\n",
       " 'SystemExit',\n",
       " 'TabError',\n",
       " 'TimeoutError',\n",
       " 'True',\n",
       " 'TypeError',\n",
       " 'UnboundLocalError',\n",
       " 'UnicodeDecodeError',\n",
       " 'UnicodeEncodeError',\n",
       " 'UnicodeError',\n",
       " 'UnicodeTranslateError',\n",
       " 'UnicodeWarning',\n",
       " 'UserWarning',\n",
       " 'ValueError',\n",
       " 'Warning',\n",
       " 'WindowsError',\n",
       " 'ZeroDivisionError',\n",
       " '__IPYTHON__',\n",
       " '__build_class__',\n",
       " '__debug__',\n",
       " '__doc__',\n",
       " '__import__',\n",
       " '__loader__',\n",
       " '__name__',\n",
       " '__package__',\n",
       " '__spec__',\n",
       " 'abs',\n",
       " 'all',\n",
       " 'any',\n",
       " 'ascii',\n",
       " 'bin',\n",
       " 'bool',\n",
       " 'breakpoint',\n",
       " 'bytearray',\n",
       " 'bytes',\n",
       " 'callable',\n",
       " 'chr',\n",
       " 'classmethod',\n",
       " 'compile',\n",
       " 'complex',\n",
       " 'copyright',\n",
       " 'credits',\n",
       " 'delattr',\n",
       " 'dict',\n",
       " 'dir',\n",
       " 'display',\n",
       " 'divmod',\n",
       " 'enumerate',\n",
       " 'eval',\n",
       " 'exec',\n",
       " 'filter',\n",
       " 'float',\n",
       " 'format',\n",
       " 'frozenset',\n",
       " 'get_ipython',\n",
       " 'getattr',\n",
       " 'globals',\n",
       " 'hasattr',\n",
       " 'hash',\n",
       " 'help',\n",
       " 'hex',\n",
       " 'id',\n",
       " 'input',\n",
       " 'int',\n",
       " 'isinstance',\n",
       " 'issubclass',\n",
       " 'iter',\n",
       " 'len',\n",
       " 'license',\n",
       " 'list',\n",
       " 'locals',\n",
       " 'map',\n",
       " 'max',\n",
       " 'memoryview',\n",
       " 'min',\n",
       " 'next',\n",
       " 'object',\n",
       " 'oct',\n",
       " 'open',\n",
       " 'ord',\n",
       " 'pow',\n",
       " 'print',\n",
       " 'property',\n",
       " 'range',\n",
       " 'repr',\n",
       " 'reversed',\n",
       " 'round',\n",
       " 'set',\n",
       " 'setattr',\n",
       " 'slice',\n",
       " 'sorted',\n",
       " 'staticmethod',\n",
       " 'str',\n",
       " 'sum',\n",
       " 'super',\n",
       " 'tuple',\n",
       " 'type',\n",
       " 'vars',\n",
       " 'zip']"
      ]
     },
     "execution_count": 63,
     "metadata": {},
     "output_type": "execute_result"
    }
   ],
   "source": [
    "dir(__builtin__)"
   ]
  },
  {
   "cell_type": "code",
   "execution_count": 67,
   "metadata": {},
   "outputs": [
    {
     "name": "stdout",
     "output_type": "stream",
     "text": [
      "[1, 2]\n",
      "2\n"
     ]
    }
   ],
   "source": [
    "aa2DList = [[1,2],[2,3]]\n",
    "print(aa2DList[0])\n",
    "print(aa2DList[0][1])"
   ]
  },
  {
   "cell_type": "code",
   "execution_count": 72,
   "metadata": {},
   "outputs": [
    {
     "name": "stdout",
     "output_type": "stream",
     "text": [
      "good\n"
     ]
    }
   ],
   "source": [
    "myLang = [['hello','python'],['good-bye','c']]\n",
    "#good을 출력해 보세요\n",
    "print(myLang[1][0][0:4])\n"
   ]
  },
  {
   "cell_type": "code",
   "execution_count": 81,
   "metadata": {},
   "outputs": [
    {
     "ename": "AttributeError",
     "evalue": "'builtin_function_or_method' object has no attribute 'copy'",
     "output_type": "error",
     "traceback": [
      "\u001b[1;31m---------------------------------------------------------------------------\u001b[0m",
      "\u001b[1;31mAttributeError\u001b[0m                            Traceback (most recent call last)",
      "\u001b[1;32m<ipython-input-81-b03c83080216>\u001b[0m in \u001b[0;36m<module>\u001b[1;34m\u001b[0m\n\u001b[0;32m      1\u001b[0m \u001b[0mtestList\u001b[0m \u001b[1;33m=\u001b[0m \u001b[1;33m[\u001b[0m\u001b[1;33m[\u001b[0m\u001b[1;36m1\u001b[0m\u001b[1;33m,\u001b[0m\u001b[1;36m2\u001b[0m\u001b[1;33m,\u001b[0m\u001b[1;36m3\u001b[0m\u001b[1;33m]\u001b[0m\u001b[1;33m,\u001b[0m\u001b[1;33m[\u001b[0m\u001b[1;36m4\u001b[0m\u001b[1;33m,\u001b[0m\u001b[1;36m5\u001b[0m\u001b[1;33m,\u001b[0m\u001b[1;36m6\u001b[0m\u001b[1;33m]\u001b[0m\u001b[1;33m,\u001b[0m\u001b[1;33m[\u001b[0m\u001b[1;36m7\u001b[0m\u001b[1;33m,\u001b[0m\u001b[1;36m8\u001b[0m\u001b[1;33m,\u001b[0m\u001b[1;36m9\u001b[0m\u001b[1;33m]\u001b[0m\u001b[1;33m]\u001b[0m\u001b[1;33m\u001b[0m\u001b[1;33m\u001b[0m\u001b[0m\n\u001b[1;32m----> 2\u001b[1;33m \u001b[0mcopyList\u001b[0m\u001b[1;33m.\u001b[0m\u001b[0mcopy\u001b[0m\u001b[1;33m(\u001b[0m\u001b[0mtestList\u001b[0m\u001b[1;33m)\u001b[0m\u001b[1;33m\u001b[0m\u001b[1;33m\u001b[0m\u001b[0m\n\u001b[0m\u001b[0;32m      3\u001b[0m \u001b[1;31m# 9 뒤에 10을 추가하세요\u001b[0m\u001b[1;33m\u001b[0m\u001b[1;33m\u001b[0m\u001b[1;33m\u001b[0m\u001b[0m\n\u001b[0;32m      4\u001b[0m \u001b[0mtestList\u001b[0m\u001b[1;33m[\u001b[0m\u001b[1;36m2\u001b[0m\u001b[1;33m]\u001b[0m\u001b[1;33m.\u001b[0m\u001b[0mappend\u001b[0m\u001b[1;33m(\u001b[0m\u001b[1;36m10\u001b[0m\u001b[1;33m)\u001b[0m\u001b[1;33m\u001b[0m\u001b[1;33m\u001b[0m\u001b[0m\n\u001b[0;32m      5\u001b[0m \u001b[0mprint\u001b[0m\u001b[1;33m(\u001b[0m\u001b[0mtestList\u001b[0m\u001b[1;33m)\u001b[0m\u001b[1;33m\u001b[0m\u001b[1;33m\u001b[0m\u001b[0m\n",
      "\u001b[1;31mAttributeError\u001b[0m: 'builtin_function_or_method' object has no attribute 'copy'"
     ]
    }
   ],
   "source": [
    "testList = [[1,2,3],[4,5,6],[7,8,9]]\n",
    "\n",
    "# 9 뒤에 10을 추가하세요\n",
    "testList[2].append(10)\n",
    "print(testList)\n",
    "copyList[2].insert(3,10)\n",
    "print(copyList)"
   ]
  },
  {
   "cell_type": "code",
   "execution_count": 75,
   "metadata": {},
   "outputs": [
    {
     "name": "stdout",
     "output_type": "stream",
     "text": [
      "[[1, 2, 3], [4, 5, 6], [7, 8, 9, 10]]\n"
     ]
    }
   ],
   "source": [
    "testList = [[1,2,3],[4,5,6],[7,8,9]]\n",
    "testList[2].insert(3,10)\n",
    "print(testList)"
   ]
  },
  {
   "cell_type": "code",
   "execution_count": 86,
   "metadata": {},
   "outputs": [
    {
     "name": "stdout",
     "output_type": "stream",
     "text": [
      "[10, 8, 4, 2]\n"
     ]
    }
   ],
   "source": [
    "kkL = [4,2,10,8]\n",
    "kkL.sort(reverse=True)\n",
    "print(kkL)"
   ]
  },
  {
   "cell_type": "code",
   "execution_count": 84,
   "metadata": {},
   "outputs": [
    {
     "name": "stdout",
     "output_type": "stream",
     "text": [
      "[2, 4, 8, 10]\n"
     ]
    }
   ],
   "source": [
    "kkL.reverse()\n",
    "print(kkL)"
   ]
  },
  {
   "cell_type": "code",
   "execution_count": 87,
   "metadata": {},
   "outputs": [
    {
     "name": "stdout",
     "output_type": "stream",
     "text": [
      "[10, 8, 4, 2]\n"
     ]
    }
   ],
   "source": [
    "print(kkL)"
   ]
  },
  {
   "cell_type": "code",
   "execution_count": 88,
   "metadata": {},
   "outputs": [],
   "source": [
    "kkL[1]=[-1,-2]"
   ]
  },
  {
   "cell_type": "code",
   "execution_count": 89,
   "metadata": {},
   "outputs": [
    {
     "name": "stdout",
     "output_type": "stream",
     "text": [
      "[10, [-1, -2], 4, 2]\n"
     ]
    }
   ],
   "source": [
    "print(kkL)"
   ]
  },
  {
   "cell_type": "code",
   "execution_count": 90,
   "metadata": {},
   "outputs": [
    {
     "name": "stdout",
     "output_type": "stream",
     "text": [
      "[-4, -5, [-1, -2], 4, 2]\n"
     ]
    }
   ],
   "source": [
    "kkL[0:1]=[-4,-5]\n",
    "print(kkL)"
   ]
  },
  {
   "cell_type": "code",
   "execution_count": 91,
   "metadata": {},
   "outputs": [
    {
     "name": "stdout",
     "output_type": "stream",
     "text": [
      "[6, 5, 4, 3, 2, 1]\n",
      "Baseball is too interesting\n"
     ]
    }
   ],
   "source": [
    "li = [1,3,5,4,6,2]\n",
    "li.sort(reverse=True)\n",
    "print(li)\n",
    "\n",
    "li2= ['Baseball','is','too','interesting']\n",
    "st = \" \".join(li2)\n",
    "print(st)"
   ]
  },
  {
   "cell_type": "code",
   "execution_count": 96,
   "metadata": {},
   "outputs": [
    {
     "name": "stdout",
     "output_type": "stream",
     "text": [
      "[1, 2, 4, 5, 3]\n"
     ]
    }
   ],
   "source": [
    "a=[1,2,3]\n",
    "a[-1:-1]=[4,5]\n",
    "print(a)"
   ]
  },
  {
   "cell_type": "code",
   "execution_count": 97,
   "metadata": {},
   "outputs": [
    {
     "name": "stdout",
     "output_type": "stream",
     "text": [
      "hello\n"
     ]
    }
   ],
   "source": [
    "testStr = \"hello\"\n",
    "print(testStr)"
   ]
  },
  {
   "cell_type": "code",
   "execution_count": 99,
   "metadata": {},
   "outputs": [
    {
     "data": {
      "text/plain": [
       "['__add__',\n",
       " '__class__',\n",
       " '__contains__',\n",
       " '__delattr__',\n",
       " '__dir__',\n",
       " '__doc__',\n",
       " '__eq__',\n",
       " '__format__',\n",
       " '__ge__',\n",
       " '__getattribute__',\n",
       " '__getitem__',\n",
       " '__getnewargs__',\n",
       " '__gt__',\n",
       " '__hash__',\n",
       " '__init__',\n",
       " '__init_subclass__',\n",
       " '__iter__',\n",
       " '__le__',\n",
       " '__len__',\n",
       " '__lt__',\n",
       " '__mod__',\n",
       " '__mul__',\n",
       " '__ne__',\n",
       " '__new__',\n",
       " '__reduce__',\n",
       " '__reduce_ex__',\n",
       " '__repr__',\n",
       " '__rmod__',\n",
       " '__rmul__',\n",
       " '__setattr__',\n",
       " '__sizeof__',\n",
       " '__str__',\n",
       " '__subclasshook__',\n",
       " 'capitalize',\n",
       " 'casefold',\n",
       " 'center',\n",
       " 'count',\n",
       " 'encode',\n",
       " 'endswith',\n",
       " 'expandtabs',\n",
       " 'find',\n",
       " 'format',\n",
       " 'format_map',\n",
       " 'index',\n",
       " 'isalnum',\n",
       " 'isalpha',\n",
       " 'isascii',\n",
       " 'isdecimal',\n",
       " 'isdigit',\n",
       " 'isidentifier',\n",
       " 'islower',\n",
       " 'isnumeric',\n",
       " 'isprintable',\n",
       " 'isspace',\n",
       " 'istitle',\n",
       " 'isupper',\n",
       " 'join',\n",
       " 'ljust',\n",
       " 'lower',\n",
       " 'lstrip',\n",
       " 'maketrans',\n",
       " 'partition',\n",
       " 'replace',\n",
       " 'rfind',\n",
       " 'rindex',\n",
       " 'rjust',\n",
       " 'rpartition',\n",
       " 'rsplit',\n",
       " 'rstrip',\n",
       " 'split',\n",
       " 'splitlines',\n",
       " 'startswith',\n",
       " 'strip',\n",
       " 'swapcase',\n",
       " 'title',\n",
       " 'translate',\n",
       " 'upper',\n",
       " 'zfill']"
      ]
     },
     "execution_count": 99,
     "metadata": {},
     "output_type": "execute_result"
    }
   ],
   "source": [
    "dir(testStr)"
   ]
  },
  {
   "cell_type": "markdown",
   "metadata": {},
   "source": [
    "## Tuple"
   ]
  },
  {
   "cell_type": "code",
   "execution_count": 100,
   "metadata": {},
   "outputs": [
    {
     "name": "stdout",
     "output_type": "stream",
     "text": [
      "(1, 2, 3)\n"
     ]
    }
   ],
   "source": [
    "#생성\n",
    "tu1 = (1,2,3)\n",
    "tu2 = 1,2,3,4\n",
    "print(tu1)"
   ]
  },
  {
   "cell_type": "code",
   "execution_count": 101,
   "metadata": {},
   "outputs": [
    {
     "name": "stdout",
     "output_type": "stream",
     "text": [
      "(1, 2, 3, 4)\n"
     ]
    }
   ],
   "source": [
    "print(tu2)"
   ]
  },
  {
   "cell_type": "code",
   "execution_count": 103,
   "metadata": {},
   "outputs": [
    {
     "name": "stdout",
     "output_type": "stream",
     "text": [
      "[1, 2, 3, 4, 5]\n",
      "(1, 2, 3, 4, 5)\n"
     ]
    }
   ],
   "source": [
    "aaL = [1,2,3,4,5]\n",
    "aaTu = tuple(aaL)\n",
    "print(aaL)\n",
    "print(aaTu)"
   ]
  },
  {
   "cell_type": "code",
   "execution_count": 104,
   "metadata": {},
   "outputs": [
    {
     "name": "stdout",
     "output_type": "stream",
     "text": [
      "104\n",
      "88\n"
     ]
    }
   ],
   "source": [
    "import sys\n",
    "print(sys.getsizeof(aaL))\n",
    "print(sys.getsizeof(aaTu))"
   ]
  },
  {
   "cell_type": "code",
   "execution_count": 105,
   "metadata": {},
   "outputs": [
    {
     "data": {
      "text/plain": [
       "['__add__',\n",
       " '__class__',\n",
       " '__contains__',\n",
       " '__delattr__',\n",
       " '__dir__',\n",
       " '__doc__',\n",
       " '__eq__',\n",
       " '__format__',\n",
       " '__ge__',\n",
       " '__getattribute__',\n",
       " '__getitem__',\n",
       " '__getnewargs__',\n",
       " '__gt__',\n",
       " '__hash__',\n",
       " '__init__',\n",
       " '__init_subclass__',\n",
       " '__iter__',\n",
       " '__le__',\n",
       " '__len__',\n",
       " '__lt__',\n",
       " '__mul__',\n",
       " '__ne__',\n",
       " '__new__',\n",
       " '__reduce__',\n",
       " '__reduce_ex__',\n",
       " '__repr__',\n",
       " '__rmul__',\n",
       " '__setattr__',\n",
       " '__sizeof__',\n",
       " '__str__',\n",
       " '__subclasshook__',\n",
       " 'count',\n",
       " 'index']"
      ]
     },
     "execution_count": 105,
     "metadata": {},
     "output_type": "execute_result"
    }
   ],
   "source": [
    "dir(aaTu)"
   ]
  },
  {
   "cell_type": "code",
   "execution_count": 106,
   "metadata": {},
   "outputs": [
    {
     "data": {
      "text/plain": [
       "['__add__',\n",
       " '__class__',\n",
       " '__contains__',\n",
       " '__delattr__',\n",
       " '__delitem__',\n",
       " '__dir__',\n",
       " '__doc__',\n",
       " '__eq__',\n",
       " '__format__',\n",
       " '__ge__',\n",
       " '__getattribute__',\n",
       " '__getitem__',\n",
       " '__gt__',\n",
       " '__hash__',\n",
       " '__iadd__',\n",
       " '__imul__',\n",
       " '__init__',\n",
       " '__init_subclass__',\n",
       " '__iter__',\n",
       " '__le__',\n",
       " '__len__',\n",
       " '__lt__',\n",
       " '__mul__',\n",
       " '__ne__',\n",
       " '__new__',\n",
       " '__reduce__',\n",
       " '__reduce_ex__',\n",
       " '__repr__',\n",
       " '__reversed__',\n",
       " '__rmul__',\n",
       " '__setattr__',\n",
       " '__setitem__',\n",
       " '__sizeof__',\n",
       " '__str__',\n",
       " '__subclasshook__',\n",
       " 'append',\n",
       " 'clear',\n",
       " 'copy',\n",
       " 'count',\n",
       " 'extend',\n",
       " 'index',\n",
       " 'insert',\n",
       " 'pop',\n",
       " 'remove',\n",
       " 'reverse',\n",
       " 'sort']"
      ]
     },
     "execution_count": 106,
     "metadata": {},
     "output_type": "execute_result"
    }
   ],
   "source": [
    "dir(aaL)"
   ]
  },
  {
   "cell_type": "code",
   "execution_count": 111,
   "metadata": {},
   "outputs": [],
   "source": [
    "bbTu = 1"
   ]
  },
  {
   "cell_type": "code",
   "execution_count": 112,
   "metadata": {},
   "outputs": [
    {
     "name": "stdout",
     "output_type": "stream",
     "text": [
      "1\n"
     ]
    }
   ],
   "source": [
    "print(bbTu)"
   ]
  },
  {
   "cell_type": "code",
   "execution_count": 113,
   "metadata": {},
   "outputs": [],
   "source": [
    "bbTu= (1,2,)"
   ]
  },
  {
   "cell_type": "code",
   "execution_count": 114,
   "metadata": {},
   "outputs": [
    {
     "name": "stdout",
     "output_type": "stream",
     "text": [
      "(1, 2)\n"
     ]
    }
   ],
   "source": [
    "print(bbTu)"
   ]
  },
  {
   "cell_type": "code",
   "execution_count": 115,
   "metadata": {},
   "outputs": [],
   "source": [
    "a,b,c = (1,2,3)"
   ]
  },
  {
   "cell_type": "code",
   "execution_count": 116,
   "metadata": {},
   "outputs": [
    {
     "name": "stdout",
     "output_type": "stream",
     "text": [
      "1 2 3\n"
     ]
    }
   ],
   "source": [
    "print (a,b,c)"
   ]
  },
  {
   "cell_type": "code",
   "execution_count": 117,
   "metadata": {},
   "outputs": [
    {
     "name": "stdout",
     "output_type": "stream",
     "text": [
      "{'sn': 'S_001', 'proName': 'DRAM', 'capa': '8g', 'price': 60000}\n"
     ]
    }
   ],
   "source": [
    "myDict = {\"sn\":\"S_001\",\"proName\":\"DRAM\",\"capa\":\"8g\",\"price\":60000}\n",
    "print(myDict)"
   ]
  },
  {
   "cell_type": "markdown",
   "metadata": {},
   "source": []
  },
  {
   "cell_type": "code",
   "execution_count": 118,
   "metadata": {},
   "outputs": [
    {
     "name": "stdout",
     "output_type": "stream",
     "text": [
      "S_001\n"
     ]
    }
   ],
   "source": [
    "print(myDict['sn'])"
   ]
  },
  {
   "cell_type": "code",
   "execution_count": 120,
   "metadata": {},
   "outputs": [],
   "source": [
    "myDict[\"cs\"]='hello'"
   ]
  },
  {
   "cell_type": "code",
   "execution_count": 121,
   "metadata": {},
   "outputs": [
    {
     "name": "stdout",
     "output_type": "stream",
     "text": [
      "{'sn': 'S_001', 'proName': 'DRAM', 'capa': '8g', 'price': 60000, 'cs': 'hello'}\n"
     ]
    }
   ],
   "source": [
    "print(myDict)"
   ]
  },
  {
   "cell_type": "code",
   "execution_count": 122,
   "metadata": {},
   "outputs": [],
   "source": [
    "myDict[\"sn\"]=\"S_002\""
   ]
  },
  {
   "cell_type": "code",
   "execution_count": 123,
   "metadata": {},
   "outputs": [
    {
     "name": "stdout",
     "output_type": "stream",
     "text": [
      "{'sn': 'S_002', 'proName': 'DRAM', 'capa': '8g', 'price': 60000, 'cs': 'hello'}\n"
     ]
    }
   ],
   "source": [
    "print(myDict)"
   ]
  },
  {
   "cell_type": "code",
   "execution_count": 124,
   "metadata": {},
   "outputs": [
    {
     "name": "stdout",
     "output_type": "stream",
     "text": [
      "{'sn': 'S_002', 'proName': 'DRAM', 'capa': '8g', 'price': 60000, 'cs': 'hello', 'maker': 'sk_hynix', 'address': 'icheon'}\n"
     ]
    }
   ],
   "source": [
    "myDict_sub = {'maker':'sk_hynix','address':'icheon'}\n",
    "myDict.update(myDict_sub)\n",
    "print(myDict)"
   ]
  },
  {
   "cell_type": "code",
   "execution_count": 128,
   "metadata": {},
   "outputs": [
    {
     "ename": "KeyError",
     "evalue": "'maker1'",
     "output_type": "error",
     "traceback": [
      "\u001b[1;31m---------------------------------------------------------------------------\u001b[0m",
      "\u001b[1;31mKeyError\u001b[0m                                  Traceback (most recent call last)",
      "\u001b[1;32m<ipython-input-128-14dfa6d124d9>\u001b[0m in \u001b[0;36m<module>\u001b[1;34m\u001b[0m\n\u001b[1;32m----> 1\u001b[1;33m \u001b[0mmyDict\u001b[0m\u001b[1;33m[\u001b[0m\u001b[1;34m'maker1'\u001b[0m\u001b[1;33m]\u001b[0m\u001b[1;33m\u001b[0m\u001b[1;33m\u001b[0m\u001b[0m\n\u001b[0m",
      "\u001b[1;31mKeyError\u001b[0m: 'maker1'"
     ]
    }
   ],
   "source": [
    "myDict['maker1']"
   ]
  },
  {
   "cell_type": "code",
   "execution_count": 130,
   "metadata": {},
   "outputs": [
    {
     "ename": "KeyError",
     "evalue": "0",
     "output_type": "error",
     "traceback": [
      "\u001b[1;31m---------------------------------------------------------------------------\u001b[0m",
      "\u001b[1;31mKeyError\u001b[0m                                  Traceback (most recent call last)",
      "\u001b[1;32m<ipython-input-130-ddc78a197c55>\u001b[0m in \u001b[0;36m<module>\u001b[1;34m\u001b[0m\n\u001b[1;32m----> 1\u001b[1;33m \u001b[1;32mdel\u001b[0m \u001b[0mmyDict\u001b[0m\u001b[1;33m[\u001b[0m\u001b[1;36m0\u001b[0m\u001b[1;33m]\u001b[0m\u001b[1;33m\u001b[0m\u001b[1;33m\u001b[0m\u001b[0m\n\u001b[0m\u001b[0;32m      2\u001b[0m \u001b[0mprint\u001b[0m\u001b[1;33m(\u001b[0m\u001b[0mmyDict\u001b[0m\u001b[1;33m)\u001b[0m\u001b[1;33m\u001b[0m\u001b[1;33m\u001b[0m\u001b[0m\n",
      "\u001b[1;31mKeyError\u001b[0m: 0"
     ]
    }
   ],
   "source": [
    "del myDict[0]\n",
    "print(myDict)"
   ]
  },
  {
   "cell_type": "code",
   "execution_count": 144,
   "metadata": {},
   "outputs": [
    {
     "name": "stdout",
     "output_type": "stream",
     "text": [
      "[7, 6, 5, 4, 3, 2, 1]\n"
     ]
    }
   ],
   "source": [
    "a=[1,1,2,2,3,4,4,5,6,7,2]\n",
    "a=list(set(a))\n",
    "a.sort(reverse=True)\n",
    "print(a)\n"
   ]
  },
  {
   "cell_type": "code",
   "execution_count": null,
   "metadata": {},
   "outputs": [],
   "source": []
  }
 ],
 "metadata": {
  "kernelspec": {
   "display_name": "Python 3",
   "language": "python",
   "name": "python3"
  },
  "language_info": {
   "codemirror_mode": {
    "name": "ipython",
    "version": 3
   },
   "file_extension": ".py",
   "mimetype": "text/x-python",
   "name": "python",
   "nbconvert_exporter": "python",
   "pygments_lexer": "ipython3",
   "version": "3.7.4"
  }
 },
 "nbformat": 4,
 "nbformat_minor": 2
}
