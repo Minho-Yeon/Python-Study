{
 "cells": [
  {
   "cell_type": "markdown",
   "metadata": {},
   "source": [
    "# 1번 평균 계산하기"
   ]
  },
  {
   "cell_type": "code",
   "execution_count": 6,
   "metadata": {},
   "outputs": [
    {
     "name": "stdout",
     "output_type": "stream",
     "text": [
      "1번째 점수를 입력하세요. 85\n",
      "2번째 점수를 입력하세요. 93\n",
      "3번째 점수를 입력하세요. 91\n",
      "92.0\n"
     ]
    }
   ],
   "source": [
    "score=[]\n",
    "for i in range(1,4):\n",
    "    score.append(int(input(\"%d번째 점수를 입력하세요. \"%i)))\n",
    "score.sort(reverse=True)\n",
    "print((score[0]+score[1])/2)\n",
    "\n",
    "\n"
   ]
  },
  {
   "cell_type": "markdown",
   "metadata": {},
   "source": [
    "# 2번 문제"
   ]
  },
  {
   "cell_type": "code",
   "execution_count": 8,
   "metadata": {},
   "outputs": [
    {
     "name": "stdout",
     "output_type": "stream",
     "text": [
      "['Jan', 'Feb', 'Mar', 'Apr', 'May', 'Jun', 'Jul', 'Aug', 'Sep', 'Oct', 'Nov', 'Dec']\n"
     ]
    }
   ],
   "source": [
    "months = [\"January\",\"February\",\"March\",\"April\",\"May\",\"June\",\"July\",\"August\",\"September\",\"October\",\"November\",\"December\"]\n",
    "new_months=[]\n",
    "for i in months:\n",
    "    new_months.append(i[:3])\n",
    "print(new_months)"
   ]
  },
  {
   "cell_type": "markdown",
   "metadata": {},
   "source": [
    "# 3번 문제"
   ]
  },
  {
   "cell_type": "code",
   "execution_count": 9,
   "metadata": {},
   "outputs": [
    {
     "name": "stdout",
     "output_type": "stream",
     "text": [
      "구문을 입력하세요. 알파벳을 세어 드릴게요 ㅎㅎhello my name\n",
      "[('A', 1), ('E', 2), ('H', 1), ('L', 2), ('M', 2), ('N', 1), ('O', 1), ('Y', 1)]\n"
     ]
    }
   ],
   "source": [
    "sentence = input(\"구문을 입력하세요. 알파벳을 세어 드릴게요 ㅎㅎ : \").upper().replace(\" \",\"\")\n",
    "alpha={}\n",
    "for i in sentence:\n",
    "    if i in alpha:\n",
    "        alpha[i]+=1\n",
    "    else:\n",
    "        alpha[i]=1\n",
    "alpha=sorted(alpha.items())\n",
    "print(alpha)"
   ]
  },
  {
   "cell_type": "code",
   "execution_count": null,
   "metadata": {},
   "outputs": [],
   "source": []
  }
 ],
 "metadata": {
  "kernelspec": {
   "display_name": "Python 3",
   "language": "python",
   "name": "python3"
  },
  "language_info": {
   "codemirror_mode": {
    "name": "ipython",
    "version": 3
   },
   "file_extension": ".py",
   "mimetype": "text/x-python",
   "name": "python",
   "nbconvert_exporter": "python",
   "pygments_lexer": "ipython3",
   "version": "3.7.4"
  }
 },
 "nbformat": 4,
 "nbformat_minor": 2
}
