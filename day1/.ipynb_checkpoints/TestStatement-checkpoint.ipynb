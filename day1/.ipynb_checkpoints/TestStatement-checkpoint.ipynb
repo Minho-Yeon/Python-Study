{
 "cells": [
  {
   "cell_type": "markdown",
   "metadata": {},
   "source": [
    "a=[1,2,3]\n",
    "a.sort()"
   ]
  },
  {
   "cell_type": "markdown",
   "metadata": {},
   "source": [
    "a=3\n",
    "if a%2 ==0 :\n",
    "    print('짝수')\n",
    "else :\n",
    "    print('홀수')"
   ]
  },
  {
   "cell_type": "markdown",
   "metadata": {},
   "source": [
    "#키보드로부터 정수 입력 받아 90점 이상이면 A 80점 B\n",
    "score = int(input('점수를 입력하시오 : '))\n",
    "if score>=90 :\n",
    "    print('A')\n",
    "elif score>=80:\n",
    "    print('B')\n",
    "elif score>=70:\n",
    "    print('C')\n",
    "else :\n",
    "    print('집에 가~~~')"
   ]
  },
  {
   "cell_type": "markdown",
   "metadata": {},
   "source": [
    "## for"
   ]
  },
  {
   "cell_type": "code",
   "execution_count": 18,
   "metadata": {},
   "outputs": [
    {
     "name": "stdout",
     "output_type": "stream",
     "text": [
      "5050\n"
     ]
    }
   ],
   "source": [
    "foodL = ['미역국','해장국','삼겹살','짬뽕']\n",
    "total=0\n",
    "for i in range(1,101):\n",
    "    total+=i\n",
    "print(total)"
   ]
  },
  {
   "cell_type": "code",
   "execution_count": 1,
   "metadata": {},
   "outputs": [
    {
     "name": "stdout",
     "output_type": "stream",
     "text": [
      "양의 정수를 입력하세요. 10\n",
      "13\n"
     ]
    }
   ],
   "source": [
    "#키보드로 양의 정수를 입력받고 해당 값가지 2또는 3의 배수가 아닌\n",
    "# 수의 합을 구하세요\n",
    "num = int(input('양의 정수를 입력하세요. '))\n",
    "total =0\n",
    "for i in range(1,num+1):\n",
    "    if i%2==0 or i%3==0 :\n",
    "        continue\n",
    "    total+=i\n",
    "print(total)"
   ]
  },
  {
   "cell_type": "code",
   "execution_count": 5,
   "metadata": {},
   "outputs": [
    {
     "name": "stdout",
     "output_type": "stream",
     "text": [
      "정수값들을 입력하시오.4 10 3 99 11 34\n",
      "['짝', '짝', '홀', '홀', '홀', '짝']\n"
     ]
    }
   ],
   "source": [
    "#키보드로부터 다음과 같이 정수값들을 입력받는다\n",
    "#4,10,3,99,11,34\n",
    "#결과 출력 ['짝','짝','홀','홀','홀','짝']\n",
    "nums = input('정수값들을 입력하시오.')\n",
    "nums = nums.split(\" \")\n",
    "hol = []\n",
    "for item in nums:\n",
    "    if int(item)%2==0:\n",
    "        hol.append('짝')\n",
    "    else:\n",
    "        hol.append('홀')\n",
    "print(hol)"
   ]
  },
  {
   "cell_type": "code",
   "execution_count": null,
   "metadata": {},
   "outputs": [],
   "source": []
  }
 ],
 "metadata": {
  "kernelspec": {
   "display_name": "Python 3",
   "language": "python",
   "name": "python3"
  },
  "language_info": {
   "codemirror_mode": {
    "name": "ipython",
    "version": 3
   },
   "file_extension": ".py",
   "mimetype": "text/x-python",
   "name": "python",
   "nbconvert_exporter": "python",
   "pygments_lexer": "ipython3",
   "version": "3.7.4"
  }
 },
 "nbformat": 4,
 "nbformat_minor": 2
}
