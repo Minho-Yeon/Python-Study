{
 "cells": [
  {
   "cell_type": "markdown",
   "metadata": {},
   "source": [
    "# 1번 문항"
   ]
  },
  {
   "cell_type": "code",
   "execution_count": 3,
   "metadata": {},
   "outputs": [
    {
     "name": "stdout",
     "output_type": "stream",
     "text": [
      "[[1, 2, 3, 4, 5, 77]]\n",
      "[[1, 2, 3, 4, 5, 77]]\n"
     ]
    }
   ],
   "source": [
    "\n",
    "\n",
    "#insert사용\n",
    "mylist = [[1,2,3,4,5]]\n",
    "mylist[0].insert(len(mylist[0]),77)\n",
    "print(mylist)\n",
    "\n",
    "#append사용\n",
    "mylist2 = [[1,2,3,4,5]]\n",
    "mylist2[0].append(77)\n",
    "print(mylist2)"
   ]
  },
  {
   "cell_type": "markdown",
   "metadata": {},
   "source": [
    "# 2번 문항"
   ]
  },
  {
   "cell_type": "code",
   "execution_count": 14,
   "metadata": {},
   "outputs": [
    {
     "name": "stdout",
     "output_type": "stream",
     "text": [
      "{'철수': 95, '영희': 88, '길동': 92}\n",
      "{'철수': 95, '영희': 88, '길동': 92, '수지': 98}\n",
      "{'철수': 95, '영희': 88, '수지': 98}\n",
      "{'민영': 85, '두리': 55, '남일': 69}\n",
      "{'철수': 95, '영희': 88, '수지': 98, '민영': 85, '두리': 55, '남일': 69}\n"
     ]
    }
   ],
   "source": [
    "score ={\"철수\":95,\"영희\":88,\"길동\":92}\n",
    "print(score)\n",
    "score[\"수지\"]=98\n",
    "print(score)\n",
    "del score[\"길동\"]\n",
    "print(score)\n",
    "new_score={\"민영\":85,\"두리\":55,\"남일\":69}\n",
    "print(new_score)\n",
    "score.update(new_score)\n",
    "print(score)"
   ]
  },
  {
   "cell_type": "markdown",
   "metadata": {},
   "source": [
    "# 3번 문항"
   ]
  },
  {
   "cell_type": "code",
   "execution_count": 7,
   "metadata": {},
   "outputs": [
    {
     "name": "stdout",
     "output_type": "stream",
     "text": [
      "[1, 2, 3, 5, 7, 8, 9, 11]\n"
     ]
    }
   ],
   "source": [
    "li=[1,2,3,5,3,2,9,8,11,7,5,1]\n",
    "li = list(set(li))\n",
    "print(li)"
   ]
  },
  {
   "cell_type": "markdown",
   "metadata": {},
   "source": [
    "# 4번 문항"
   ]
  },
  {
   "cell_type": "code",
   "execution_count": 18,
   "metadata": {},
   "outputs": [
    {
     "name": "stdout",
     "output_type": "stream",
     "text": [
      "{'p', 'o', 'i'}\n"
     ]
    }
   ],
   "source": [
    "py = [\"Python is simple\",\"apple is delicious\", \"programming\"]\n",
    "alpha=[]\n",
    "for i in py[0].lower():\n",
    "    for j in py[1]:\n",
    "        if i==j:\n",
    "            for k in py[2]:\n",
    "                if(j==k):\n",
    "                    alpha.append(i)\n",
    "                    break;\n",
    "print(set(alpha))            "
   ]
  },
  {
   "cell_type": "markdown",
   "metadata": {},
   "source": [
    "# 5번 문항"
   ]
  },
  {
   "cell_type": "code",
   "execution_count": 12,
   "metadata": {},
   "outputs": [
    {
     "name": "stdout",
     "output_type": "stream",
     "text": [
      "220\n"
     ]
    }
   ],
   "source": [
    "temp =0\n",
    "total=0\n",
    "for i in range(1,11):\n",
    "    temp+=i\n",
    "    total+=temp\n",
    "print(total)"
   ]
  },
  {
   "cell_type": "code",
   "execution_count": null,
   "metadata": {},
   "outputs": [],
   "source": []
  }
 ],
 "metadata": {
  "kernelspec": {
   "display_name": "Python 3",
   "language": "python",
   "name": "python3"
  },
  "language_info": {
   "codemirror_mode": {
    "name": "ipython",
    "version": 3
   },
   "file_extension": ".py",
   "mimetype": "text/x-python",
   "name": "python",
   "nbconvert_exporter": "python",
   "pygments_lexer": "ipython3",
   "version": "3.7.4"
  }
 },
 "nbformat": 4,
 "nbformat_minor": 2
}
