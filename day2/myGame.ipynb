{
 "cells": [
  {
   "cell_type": "code",
   "execution_count": 44,
   "metadata": {},
   "outputs": [
    {
     "name": "stdout",
     "output_type": "stream",
     "text": [
      "Overwriting myGame.py\n"
     ]
    }
   ],
   "source": [
    "%%writefile myGame.py\n",
    "import random\n",
    "def makeLotto(num):\n",
    "    lotto=[]\n",
    "    for i in range(num):\n",
    "        lotto.append([])\n",
    "        for j in range(6):\n",
    "            lotto[i].append(random.randint(1,45))\n",
    "        print(\"게임 %d\"%(i+1),lotto[i])\n",
    "\n",
    "def option1(day,salary):\n",
    "    dolar=day*salary\n",
    "    \n",
    "    go = list(str(dolar))\n",
    "    num=-3\n",
    "    while True:\n",
    "        if num<=-1*len(go):\n",
    "            break;\n",
    "        go.insert(num,\",\")\n",
    "        num-=4\n",
    "    go=\"\".join(go)+\".00\"\n",
    "    print(\"Option 1 pay : $%s\"%go)\n",
    "    return dolar\n",
    "def option2(day,salary=1):\n",
    "    dolar=0\n",
    "    for i in range(day):\n",
    "        dolar+=2**i\n",
    "    go = list(str(dolar))\n",
    "    num=-3\n",
    "    while True:\n",
    "        if num<=-1*len(go):\n",
    "            break;\n",
    "        go.insert(num,\",\")\n",
    "        num-=4\n",
    "    go=\"\".join(go)+\".00\"\n",
    "    print(\"Option 2 pay : $%s\"%go)\n",
    "    return dolar"
   ]
  },
  {
   "cell_type": "code",
   "execution_count": null,
   "metadata": {},
   "outputs": [],
   "source": []
  },
  {
   "cell_type": "code",
   "execution_count": null,
   "metadata": {},
   "outputs": [],
   "source": []
  }
 ],
 "metadata": {
  "kernelspec": {
   "display_name": "Python 3",
   "language": "python",
   "name": "python3"
  },
  "language_info": {
   "codemirror_mode": {
    "name": "ipython",
    "version": 3
   },
   "file_extension": ".py",
   "mimetype": "text/x-python",
   "name": "python",
   "nbconvert_exporter": "python",
   "pygments_lexer": "ipython3",
   "version": "3.7.4"
  }
 },
 "nbformat": 4,
 "nbformat_minor": 2
}
