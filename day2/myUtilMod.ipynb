{
 "cells": [
  {
   "cell_type": "code",
   "execution_count": 6,
   "metadata": {},
   "outputs": [
    {
     "name": "stdout",
     "output_type": "stream",
     "text": [
      "Overwriting myUtilMod.py\n"
     ]
    }
   ],
   "source": [
    "%%writefile myUtilMod.py\n",
    "def getMyscore(data):\n",
    "    total=0\n",
    "    for grade in data:\n",
    "        if grade[0]=='A':\n",
    "            total+=4\n",
    "        elif grade[0]=='B':\n",
    "            total+=3\n",
    "        elif grade[0]=='C':\n",
    "            total+=2.5\n",
    "        elif grade[0]=='D':\n",
    "            total+=2.0\n",
    "        else:\n",
    "            print(\"제대로 된 성적이 아닙니다. 다시 입력해주세요\")\n",
    "            return None;\n",
    "        if '-' in grade:\n",
    "            total-=0.25\n",
    "        elif '+' in grade:\n",
    "            total+=0.25\n",
    "    avg=total/len(data)\n",
    "    return avg\n",
    "def checkPopulation(year,chinaPop=1.37,indiaPop=1.26,chinaRate=1.0051,indiaRate=1.0135):\n",
    "    add_year=year+1\n",
    "    while True:\n",
    "        chinaPop*=chinaRate\n",
    "        indiaPop*=indiaRate\n",
    "        if chinaPop<indiaPop:\n",
    "            break\n",
    "        add_year+=1\n",
    "    \n",
    "    print(\"중국 인구 %2f, 인도인구 %2f %d년도에 인도 인구가 더 많습니다\" %(chinaPop,indiaPop,add_year))"
   ]
  },
  {
   "cell_type": "code",
   "execution_count": null,
   "metadata": {},
   "outputs": [],
   "source": []
  }
 ],
 "metadata": {
  "kernelspec": {
   "display_name": "Python 3",
   "language": "python",
   "name": "python3"
  },
  "language_info": {
   "codemirror_mode": {
    "name": "ipython",
    "version": 3
   },
   "file_extension": ".py",
   "mimetype": "text/x-python",
   "name": "python",
   "nbconvert_exporter": "python",
   "pygments_lexer": "ipython3",
   "version": "3.7.4"
  }
 },
 "nbformat": 4,
 "nbformat_minor": 2
}
