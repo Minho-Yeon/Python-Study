{
 "cells": [
  {
   "cell_type": "code",
   "execution_count": 1,
   "metadata": {},
   "outputs": [
    {
     "name": "stdout",
     "output_type": "stream",
     "text": [
      "메뉴를 선택하세요\n",
      "1번 : 학점 조회, 2번 : 인구수 조회, Q: 프로그램 종료\n",
      "해당 메뉴는 계속 반복되면 Q를 선택하면 프로그램이 종료됩니다.\n",
      "1\n",
      "성적을 입력해주세요. ','로 구분해주세요. : A,A+,B-,B,C\n",
      "3.3\n",
      "메뉴를 선택하세요\n",
      "1번 : 학점 조회, 2번 : 인구수 조회, Q: 프로그램 종료\n",
      "해당 메뉴는 계속 반복되면 Q를 선택하면 프로그램이 종료됩니다.\n",
      "2\n",
      "중국의 인구수를 입력하세요. : 1.37\n",
      "인도의 인구수를 입력하세요. : 1.26\n",
      "기준 년도를 입력하세요. : 2014\n",
      "중국 인구 1.448847, 인도인구 1.460266 2025년도에 인도 인구가 더 많습니다\n",
      "메뉴를 선택하세요\n",
      "1번 : 학점 조회, 2번 : 인구수 조회, Q: 프로그램 종료\n",
      "해당 메뉴는 계속 반복되면 Q를 선택하면 프로그램이 종료됩니다.\n",
      "Q\n",
      "프로그램이 종료됩니다.\n"
     ]
    }
   ],
   "source": [
    "import myUtilMod\n",
    "\n",
    "while True:\n",
    "    print(\"메뉴를 선택하세요\")\n",
    "    print(\"1번 : 학점 조회, 2번 : 인구수 조회, Q: 프로그램 종료\")\n",
    "    select=input(\"해당 메뉴는 계속 반복되면 Q를 선택하면 프로그램이 종료됩니다.\\n\")\n",
    "    if select=='1':\n",
    "        print(myUtilMod.getMyscore(input(\"성적을 입력해주세요. ','로 구분해주세요. : \").split(\",\")))\n",
    "    elif select=='2':\n",
    "        china=float(input(\"중국의 인구수를 입력하세요. : \"))\n",
    "        india=float(input(\"인도의 인구수를 입력하세요. : \"))\n",
    "        year = float(input(\"기준 년도를 입력하세요. : \"))\n",
    "        myUtilMod.checkPopulation(year, chinaPop=china, indiaPop=india)\n",
    "    elif select=='Q':\n",
    "        print(\"프로그램이 종료됩니다.\")\n",
    "        break;"
   ]
  },
  {
   "cell_type": "markdown",
   "metadata": {},
   "source": [
    "## "
   ]
  }
 ],
 "metadata": {
  "kernelspec": {
   "display_name": "Python 3",
   "language": "python",
   "name": "python3"
  },
  "language_info": {
   "codemirror_mode": {
    "name": "ipython",
    "version": 3
   },
   "file_extension": ".py",
   "mimetype": "text/x-python",
   "name": "python",
   "nbconvert_exporter": "python",
   "pygments_lexer": "ipython3",
   "version": "3.7.4"
  }
 },
 "nbformat": 4,
 "nbformat_minor": 2
}
