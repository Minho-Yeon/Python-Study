{
 "cells": [
  {
   "cell_type": "code",
   "execution_count": 1,
   "metadata": {},
   "outputs": [
    {
     "name": "stdout",
     "output_type": "stream",
     "text": [
      "게임 1 [3, 6, 3, 26, 41, 8]\n",
      "게임 2 [27, 36, 45, 32, 18, 12]\n",
      "Option 1 pay : $5,000.00\n",
      "Option 2 pay : $1,125,899,906,842,623.00\n",
      "Option 2가 훨씬 좋아!\n"
     ]
    }
   ],
   "source": [
    "import myGame\n",
    "\n",
    "myGame.makeLotto(2)\n",
    "opt_1=myGame.option1(50,100)\n",
    "opt_2=myGame.option2(50)\n",
    "if opt_1>opt_2:\n",
    "    print(\"Option 1이 훨씬 좋아!\")\n",
    "elif opt_1<opt_2:\n",
    "    print(\"Option 2가 훨씬 좋아!\")\n",
    "else :\n",
    "    print(\"둘 다 똑같아 아무거나 해\")"
   ]
  },
  {
   "cell_type": "code",
   "execution_count": null,
   "metadata": {},
   "outputs": [],
   "source": []
  }
 ],
 "metadata": {
  "kernelspec": {
   "display_name": "Python 3",
   "language": "python",
   "name": "python3"
  },
  "language_info": {
   "codemirror_mode": {
    "name": "ipython",
    "version": 3
   },
   "file_extension": ".py",
   "mimetype": "text/x-python",
   "name": "python",
   "nbconvert_exporter": "python",
   "pygments_lexer": "ipython3",
   "version": "3.7.4"
  }
 },
 "nbformat": 4,
 "nbformat_minor": 2
}
