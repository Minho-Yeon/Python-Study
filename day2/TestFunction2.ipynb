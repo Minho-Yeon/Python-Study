{
 "cells": [
  {
   "cell_type": "code",
   "execution_count": 4,
   "metadata": {},
   "outputs": [
    {
     "name": "stdout",
     "output_type": "stream",
     "text": [
      "Writing calcMod.py\n"
     ]
    }
   ],
   "source": [
    "%%writefile calcMod.py\n",
    "#키보드로부터 값을 다음과 같은 형태(양의정수)로 받는다...5,3,8,2,10,\n",
    "#입력받은 문자열을 리스트로 변환하여 함수의 인자값으로 받아 다음 함수를 구현한다.\n",
    "#getTotal(data) : 결과값 리턴\n",
    "#getMean(data) : 평균 -> 결과값 리턴\n",
    "#getMax(data): 최대값 리턴\n",
    "#getMin(data) : 최소값 리턴\n",
    "#getTwoSum(num1,num2): 입력된 두개의 값 포함 두값 사이의 숫자의 합을 구하는 함수\n",
    "\n",
    "\n",
    "def getTotal(data):\n",
    "    total=0\n",
    "    for i in data:\n",
    "        total+=i\n",
    "    return total\n",
    "def getMean(data):\n",
    "    avg=getTotal(data)/len(data)\n",
    "    return avg\n",
    "def getMax(data):\n",
    "    max=0\n",
    "    for i in data:\n",
    "        if max<i:\n",
    "            max=i\n",
    "    return max\n",
    "def getMin(data):\n",
    "    min=1000\n",
    "    for i in data:\n",
    "        if min>i:\n",
    "            min=i\n",
    "    return min\n",
    "def getTwoSum(num1,num2):\n",
    "    if num1>num2:\n",
    "        num1,num2=num2,num1\n",
    "    total=0\n",
    "    for i in range(num1,num2+1):\n",
    "        total+=i\n",
    "    return total\n",
    "print(\"__name__\" + __name__)\n"
   ]
  },
  {
   "cell_type": "code",
   "execution_count": 2,
   "metadata": {},
   "outputs": [
    {
     "name": "stdout",
     "output_type": "stream",
     "text": [
      "양의 정수를 입력하세요. 구분은 ,로 해주세요. : 3,2\n",
      "5\n",
      "2.5\n",
      "3\n",
      "2\n",
      "양의 정수 두개를 입력해주세요. 구분은 ,로 해주세요. :5,1\n",
      "15\n"
     ]
    }
   ],
   "source": [
    "#Test 코드\n",
    "# str = input(\"양의 정수를 입력하세요. 구분은 ,로 해주세요. : \").split(\",\")\n",
    "# num_li = [int(i) for i in str]\n",
    "# print(getTotal(num_li))\n",
    "# print(getMean(num_li))\n",
    "# print(getMax(num_li))\n",
    "# print(getMin(num_li))\n",
    "# num_li2 =[int(i) for i in input(\"양의 정수 두개를 입력해주세요. 구분은 ,로 해주세요. :\").split(\",\")]\n",
    "# print(getTwoSum(num_li2[0],num_li2[1]))\n"
   ]
  },
  {
   "cell_type": "code",
   "execution_count": null,
   "metadata": {},
   "outputs": [
    {
     "name": "stdout",
     "output_type": "stream",
     "text": [
      "메뉴를 입력해주세요...1번 : 4개합, 2번 합구하는 것, Q: 종료2\n",
      "값 입력해 주세요5,1\n",
      "두수 사이 합 15\n",
      "메뉴를 입력해주세요...1번 : 4개합, 2번 합구하는 것, Q: 종료2\n",
      "값 입력해 주세요1,4\n",
      "두수 사이 합 10\n"
     ]
    }
   ],
   "source": [
    "# while True:\n",
    "#     menu = input(\"메뉴를 입력해주세요...1번 : 4개합, 2번 합구하는 것, Q: 종료\")\n",
    "#     if menu ==\"1\":\n",
    "#         inputD=[int(i) for i in input(\"값 입력해주세요\").split(\",\")]\n",
    "#         print(\"total\",getTotal(inputD))\n",
    "#         print(\"Mean\",getMean(inputD))\n",
    "#         print(\"최대값\",getMax(inputD))\n",
    "#         print(\"최소값\",getMin(inputD))\n",
    "#     elif menu==\"2\":\n",
    "#         inputD= [int(i) for i in input(\"값 입력해 주세요\").split(\",\")]\n",
    "#         print(\"두수 사이 합\", getTwoSum(inputD[0],inputD[1]))\n",
    "#     elif menu ==\"Q\":\n",
    "#         print(\"프로그램 종료합니다...\")\n",
    "#         break;"
   ]
  },
  {
   "cell_type": "code",
   "execution_count": null,
   "metadata": {},
   "outputs": [],
   "source": []
  }
 ],
 "metadata": {
  "kernelspec": {
   "display_name": "Python 3",
   "language": "python",
   "name": "python3"
  },
  "language_info": {
   "codemirror_mode": {
    "name": "ipython",
    "version": 3
   },
   "file_extension": ".py",
   "mimetype": "text/x-python",
   "name": "python",
   "nbconvert_exporter": "python",
   "pygments_lexer": "ipython3",
   "version": "3.7.4"
  }
 },
 "nbformat": 4,
 "nbformat_minor": 2
}
