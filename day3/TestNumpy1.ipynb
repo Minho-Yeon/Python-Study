{
 "cells": [
  {
   "cell_type": "code",
   "execution_count": 3,
   "metadata": {},
   "outputs": [],
   "source": [
    "import numpy as np\n",
    "import pandas as pd\n",
    "from pandas import Series,DataFrame\n",
    "import matplotlib.pyplot as plt\n",
    "import seaborn as sns"
   ]
  },
  {
   "cell_type": "code",
   "execution_count": 37,
   "metadata": {},
   "outputs": [
    {
     "name": "stdout",
     "output_type": "stream",
     "text": [
      "float64\n"
     ]
    }
   ],
   "source": [
    "#생성\n",
    "arr1 = np.array([1,2,3,4,5])\n",
    "arr2 = np.array([[3,4],[5,6]])\n",
    "arr3 = arr2.astype(np.int32)\n",
    "print(arr2.dtype)\n",
    "# print(arr1)\n",
    "# print(arr2)\n",
    "# print(arr3)\n",
    "# print(np.ndim(arr1))\n",
    "# print(np.ndim(arr2))\n",
    "# print(np.shape(arr2))\n",
    "# print(arr2.dtype)\n",
    "# print(arr3.dtype)"
   ]
  },
  {
   "cell_type": "code",
   "execution_count": 38,
   "metadata": {},
   "outputs": [
    {
     "name": "stdout",
     "output_type": "stream",
     "text": [
      "[1 2 3 4 5 6 7 8 9]\n",
      "[[1 2 3]\n",
      " [4 5 6]\n",
      " [7 8 9]]\n",
      "[[14 10 10]\n",
      " [13 19 11]\n",
      " [15 17 19]]\n",
      "<class 'numpy.ndarray'>\n"
     ]
    }
   ],
   "source": [
    "import random\n",
    "arr4 = np.random.rand(4,4)\n",
    "arr5 = np.arange(1,10)\n",
    "arr6 = np.arange(1,10).reshape(3,3)\n",
    "arr7 = np.random.randint(10,20,9).reshape(3,3)\n",
    "print(arr5)\n",
    "print(arr6)\n",
    "print(arr7)\n",
    "print(type(arr5))"
   ]
  },
  {
   "cell_type": "code",
   "execution_count": 49,
   "metadata": {},
   "outputs": [
    {
     "data": {
      "text/plain": [
       "array([12, 15, 18])"
      ]
     },
     "execution_count": 49,
     "metadata": {},
     "output_type": "execute_result"
    }
   ],
   "source": [
    "np.sum(arr6,axis=0)"
   ]
  },
  {
   "cell_type": "code",
   "execution_count": 50,
   "metadata": {},
   "outputs": [
    {
     "data": {
      "text/plain": [
       "array([3, 4, 5, 6, 7, 8])"
      ]
     },
     "execution_count": 50,
     "metadata": {},
     "output_type": "execute_result"
    }
   ],
   "source": [
    "arr1 = np.array([3,4,5,6,7,8])\n",
    "arr1"
   ]
  },
  {
   "cell_type": "code",
   "execution_count": 52,
   "metadata": {},
   "outputs": [
    {
     "name": "stdout",
     "output_type": "stream",
     "text": [
      "[4 5 6]\n"
     ]
    }
   ],
   "source": [
    "arr1_sub = arr1[1:4]\n",
    "print(arr1_sub)"
   ]
  },
  {
   "cell_type": "code",
   "execution_count": 54,
   "metadata": {},
   "outputs": [
    {
     "name": "stdout",
     "output_type": "stream",
     "text": [
      "[ 4 -5  6]\n",
      "[ 3  4 -5  6  7  8]\n"
     ]
    }
   ],
   "source": [
    "arr1_sub[1]=-5\n",
    "print(arr1_sub)\n",
    "print(arr1)"
   ]
  },
  {
   "cell_type": "code",
   "execution_count": 56,
   "metadata": {},
   "outputs": [
    {
     "data": {
      "text/plain": [
       "array([[ 1,  2,  3,  4],\n",
       "       [ 5,  6,  7,  8],\n",
       "       [ 9, 10, 11, 12],\n",
       "       [13, 14, 15, 16]])"
      ]
     },
     "execution_count": 56,
     "metadata": {},
     "output_type": "execute_result"
    }
   ],
   "source": [
    "arr2D = np.arange(1,17).reshape(4,4)\n",
    "arr2D"
   ]
  },
  {
   "cell_type": "code",
   "execution_count": 63,
   "metadata": {},
   "outputs": [
    {
     "name": "stdout",
     "output_type": "stream",
     "text": [
      "6\n"
     ]
    }
   ],
   "source": [
    "print(arr2D[1][1])"
   ]
  },
  {
   "cell_type": "code",
   "execution_count": 68,
   "metadata": {},
   "outputs": [
    {
     "name": "stdout",
     "output_type": "stream",
     "text": [
      "[5 6 7 8]\n",
      "[[5 6 7 8]]\n"
     ]
    }
   ],
   "source": [
    "print(arr2D[1,:])\n",
    "print(arr2D[1:2,:])"
   ]
  },
  {
   "cell_type": "code",
   "execution_count": 71,
   "metadata": {},
   "outputs": [
    {
     "name": "stdout",
     "output_type": "stream",
     "text": [
      "[ 2  6 10 14]\n",
      "[[ 2]\n",
      " [ 6]\n",
      " [10]\n",
      " [14]]\n"
     ]
    }
   ],
   "source": [
    "print(arr2D[:,1])\n",
    "print(arr2D[:,1:2])"
   ]
  },
  {
   "cell_type": "code",
   "execution_count": 72,
   "metadata": {},
   "outputs": [
    {
     "name": "stdout",
     "output_type": "stream",
     "text": [
      "[[ True  True]\n",
      " [ True  True]]\n",
      "[3. 4. 5. 6.]\n"
     ]
    }
   ],
   "source": [
    "arr2_idx = arr2>0\n",
    "print(arr2_idx)\n",
    "print(arr2[arr2_idx])\n",
    "print(arr2_idx)\n"
   ]
  },
  {
   "cell_type": "code",
   "execution_count": 73,
   "metadata": {},
   "outputs": [
    {
     "name": "stdout",
     "output_type": "stream",
     "text": [
      "[[3. 4.]\n",
      " [5. 6.]]\n"
     ]
    }
   ],
   "source": [
    "arr2_res = np.where(arr2>0,arr2,0)\n",
    "print(arr2_res)"
   ]
  },
  {
   "cell_type": "code",
   "execution_count": 74,
   "metadata": {},
   "outputs": [
    {
     "data": {
      "text/plain": [
       "array([ 8., 10.])"
      ]
     },
     "execution_count": 74,
     "metadata": {},
     "output_type": "execute_result"
    }
   ],
   "source": [
    "np.sum(arr2, axis=0)"
   ]
  },
  {
   "cell_type": "code",
   "execution_count": 75,
   "metadata": {},
   "outputs": [],
   "source": [
    "arr2=np.array([[-8,-4,0],[8,2,6],[7,-1,-9]])"
   ]
  },
  {
   "cell_type": "code",
   "execution_count": 76,
   "metadata": {},
   "outputs": [
    {
     "data": {
      "text/plain": [
       "array([[-8, -4,  0],\n",
       "       [ 8,  2,  6],\n",
       "       [ 7, -1, -9]])"
      ]
     },
     "execution_count": 76,
     "metadata": {},
     "output_type": "execute_result"
    }
   ],
   "source": [
    "arr2"
   ]
  },
  {
   "cell_type": "code",
   "execution_count": 81,
   "metadata": {},
   "outputs": [
    {
     "name": "stdout",
     "output_type": "stream",
     "text": [
      "[1 1 1]\n",
      "[[-8 -4  0]\n",
      " [ 0 -2  6]\n",
      " [ 7 -3 -3]]\n",
      "[[ -8 -12 -12]\n",
      " [  8  10  16]\n",
      " [  7   6  -3]]\n"
     ]
    }
   ],
   "source": [
    "print(np.argmax(arr2,axis=0))\n",
    "print(np.cumsum(arr2,axis=0))\n",
    "print(np.cumsum(arr2,axis=1))"
   ]
  },
  {
   "cell_type": "code",
   "execution_count": 83,
   "metadata": {},
   "outputs": [],
   "source": [
    "import numpy as np\n",
    "np.random.seed(888)\n",
    "nsteps=1000"
   ]
  },
  {
   "cell_type": "code",
   "execution_count": 85,
   "metadata": {},
   "outputs": [
    {
     "data": {
      "text/plain": [
       "array([0, 1, 1, 0, 1, 1, 0, 1, 0, 1, 1, 0, 1, 0, 0, 1, 1, 0, 0, 0, 1, 0,\n",
       "       0, 0, 0, 1, 0, 1, 1, 0, 0, 0, 1, 0, 0, 1, 1, 0, 0, 0, 0, 1, 1, 0,\n",
       "       0, 0, 0, 1, 1, 0, 1, 1, 0, 0, 0, 0, 1, 0, 0, 0, 0, 0, 1, 0, 1, 1,\n",
       "       0, 0, 1, 1, 1, 0, 0, 1, 0, 0, 0, 1, 0, 1, 0, 0, 1, 0, 0, 0, 0, 1,\n",
       "       1, 1, 1, 0, 0, 1, 0, 1, 0, 0, 0, 1, 1, 1, 0, 0, 1, 1, 0, 0, 1, 1,\n",
       "       0, 0, 0, 0, 1, 1, 0, 0, 0, 0, 1, 1, 0, 1, 0, 1, 0, 1, 0, 0, 0, 0,\n",
       "       1, 1, 1, 0, 1, 1, 0, 1, 1, 1, 1, 1, 0, 0, 1, 1, 1, 0, 1, 1, 1, 1,\n",
       "       0, 1, 1, 1, 0, 0, 0, 0, 1, 0, 1, 1, 0, 0, 1, 0, 1, 0, 0, 1, 1, 0,\n",
       "       0, 0, 1, 1, 0, 1, 0, 0, 0, 0, 1, 0, 0, 0, 1, 0, 1, 0, 0, 0, 1, 0,\n",
       "       0, 1, 0, 1, 1, 0, 1, 0, 0, 1, 0, 1, 1, 0, 0, 1, 1, 1, 0, 0, 1, 0,\n",
       "       0, 1, 1, 0, 1, 1, 0, 0, 0, 0, 0, 0, 1, 0, 0, 1, 1, 1, 1, 0, 1, 1,\n",
       "       1, 1, 1, 0, 0, 0, 0, 0, 0, 0, 1, 0, 0, 1, 1, 1, 1, 0, 0, 1, 1, 1,\n",
       "       1, 1, 0, 0, 0, 0, 0, 1, 1, 0, 0, 0, 0, 1, 1, 0, 0, 1, 1, 0, 1, 0,\n",
       "       0, 0, 1, 0, 1, 1, 1, 0, 0, 0, 0, 1, 0, 0, 1, 1, 0, 0, 0, 1, 1, 0,\n",
       "       0, 1, 0, 1, 1, 0, 1, 0, 1, 1, 0, 1, 0, 0, 0, 0, 1, 1, 0, 1, 0, 1,\n",
       "       1, 1, 0, 0, 1, 1, 1, 1, 0, 0, 0, 0, 1, 0, 1, 1, 1, 0, 1, 1, 0, 0,\n",
       "       0, 1, 0, 0, 0, 1, 1, 1, 1, 0, 1, 0, 0, 0, 0, 0, 1, 1, 1, 0, 1, 0,\n",
       "       0, 1, 1, 0, 1, 0, 0, 1, 0, 1, 1, 0, 1, 0, 0, 0, 1, 0, 0, 1, 1, 1,\n",
       "       0, 1, 1, 1, 0, 0, 1, 0, 1, 1, 0, 0, 1, 0, 1, 1, 0, 0, 0, 0, 1, 0,\n",
       "       0, 0, 0, 1, 1, 1, 1, 1, 0, 0, 1, 1, 1, 1, 0, 0, 1, 1, 1, 1, 1, 1,\n",
       "       0, 0, 0, 0, 0, 0, 1, 1, 1, 1, 0, 0, 1, 0, 1, 0, 1, 1, 1, 0, 1, 1,\n",
       "       0, 1, 1, 0, 1, 1, 0, 0, 1, 0, 1, 1, 0, 1, 0, 0, 0, 1, 0, 0, 0, 0,\n",
       "       0, 1, 1, 1, 1, 0, 1, 1, 0, 1, 0, 0, 1, 1, 0, 1, 1, 0, 0, 0, 0, 0,\n",
       "       1, 0, 1, 1, 1, 0, 1, 0, 1, 1, 0, 0, 1, 1, 0, 0, 1, 0, 1, 1, 0, 1,\n",
       "       1, 0, 0, 1, 0, 1, 1, 0, 0, 1, 1, 1, 1, 1, 0, 1, 1, 0, 0, 0, 0, 0,\n",
       "       0, 1, 0, 1, 0, 1, 1, 1, 0, 1, 1, 0, 0, 1, 1, 1, 1, 1, 1, 0, 1, 0,\n",
       "       1, 0, 0, 1, 0, 0, 1, 0, 0, 1, 0, 0, 0, 0, 1, 0, 1, 1, 0, 1, 0, 1,\n",
       "       1, 1, 0, 1, 0, 0, 1, 1, 1, 0, 1, 0, 0, 1, 0, 0, 1, 1, 0, 0, 1, 1,\n",
       "       1, 1, 0, 1, 1, 1, 1, 0, 1, 1, 0, 1, 0, 1, 1, 0, 1, 0, 0, 1, 1, 1,\n",
       "       0, 1, 1, 0, 1, 0, 0, 0, 1, 1, 1, 1, 0, 0, 1, 0, 0, 1, 1, 0, 0, 1,\n",
       "       0, 1, 0, 1, 1, 1, 0, 1, 1, 0, 0, 0, 1, 0, 1, 0, 0, 0, 1, 1, 1, 1,\n",
       "       1, 0, 1, 0, 1, 0, 0, 0, 0, 0, 0, 1, 0, 1, 1, 0, 0, 1, 1, 0, 0, 1,\n",
       "       0, 1, 0, 0, 1, 0, 0, 0, 1, 1, 0, 0, 0, 1, 0, 1, 1, 0, 1, 0, 1, 1,\n",
       "       0, 0, 1, 0, 1, 0, 1, 0, 1, 0, 0, 1, 0, 1, 0, 0, 1, 1, 1, 1, 1, 1,\n",
       "       1, 1, 0, 1, 1, 0, 0, 1, 0, 0, 0, 0, 1, 0, 0, 1, 0, 1, 1, 1, 0, 1,\n",
       "       1, 0, 1, 0, 1, 0, 0, 0, 1, 1, 0, 0, 1, 0, 0, 1, 1, 1, 1, 0, 1, 1,\n",
       "       0, 0, 0, 1, 1, 0, 1, 0, 0, 0, 1, 0, 1, 0, 1, 1, 0, 0, 0, 1, 1, 1,\n",
       "       1, 0, 1, 1, 0, 0, 1, 1, 1, 1, 1, 0, 1, 1, 0, 1, 1, 1, 0, 0, 1, 1,\n",
       "       0, 0, 0, 0, 0, 1, 0, 1, 1, 0, 1, 1, 0, 0, 1, 1, 1, 0, 0, 1, 1, 0,\n",
       "       0, 1, 1, 1, 0, 1, 1, 0, 1, 1, 1, 0, 0, 1, 0, 0, 0, 1, 0, 1, 1, 1,\n",
       "       0, 0, 0, 0, 1, 1, 0, 1, 1, 1, 1, 1, 0, 1, 0, 1, 0, 1, 1, 1, 0, 0,\n",
       "       0, 0, 0, 0, 1, 0, 0, 0, 1, 1, 1, 1, 0, 1, 0, 1, 0, 1, 1, 0, 0, 1,\n",
       "       1, 1, 1, 0, 0, 1, 0, 0, 1, 1, 0, 1, 1, 1, 0, 1, 1, 0, 1, 0, 0, 1,\n",
       "       1, 0, 0, 0, 0, 0, 1, 0, 1, 1, 0, 0, 1, 1, 0, 0, 0, 1, 0, 0, 1, 1,\n",
       "       0, 0, 1, 1, 0, 0, 1, 0, 0, 0, 1, 1, 0, 1, 0, 0, 1, 0, 1, 1, 0, 0,\n",
       "       0, 0, 0, 1, 1, 0, 1, 0, 1, 1])"
      ]
     },
     "execution_count": 85,
     "metadata": {},
     "output_type": "execute_result"
    }
   ],
   "source": [
    "draws=np.random.randint(2,size=1000)\n",
    "draws"
   ]
  },
  {
   "cell_type": "code",
   "execution_count": 88,
   "metadata": {},
   "outputs": [
    {
     "data": {
      "text/plain": [
       "array([ -1,   0,   1,   0,   1,   2,   1,   2,   1,   2,   3,   2,   3,\n",
       "         2,   1,   2,   3,   2,   1,   0,   1,   0,  -1,  -2,  -3,  -2,\n",
       "        -3,  -2,  -1,  -2,  -3,  -4,  -3,  -4,  -5,  -4,  -3,  -4,  -5,\n",
       "        -6,  -7,  -6,  -5,  -6,  -7,  -8,  -9,  -8,  -7,  -8,  -7,  -6,\n",
       "        -7,  -8,  -9, -10,  -9, -10, -11, -12, -13, -14, -13, -14, -13,\n",
       "       -12, -13, -14, -13, -12, -11, -12, -13, -12, -13, -14, -15, -14,\n",
       "       -15, -14, -15, -16, -15, -16, -17, -18, -19, -18, -17, -16, -15,\n",
       "       -16, -17, -16, -17, -16, -17, -18, -19, -18, -17, -16, -17, -18,\n",
       "       -17, -16, -17, -18, -17, -16, -17, -18, -19, -20, -19, -18, -19,\n",
       "       -20, -21, -22, -21, -20, -21, -20, -21, -20, -21, -20, -21, -22,\n",
       "       -23, -24, -23, -22, -21, -22, -21, -20, -21, -20, -19, -18, -17,\n",
       "       -16, -17, -18, -17, -16, -15, -16, -15, -14, -13, -12, -13, -12,\n",
       "       -11, -10, -11, -12, -13, -14, -13, -14, -13, -12, -13, -14, -13,\n",
       "       -14, -13, -14, -15, -14, -13, -14, -15, -16, -15, -14, -15, -14,\n",
       "       -15, -16, -17, -18, -17, -18, -19, -20, -19, -20, -19, -20, -21,\n",
       "       -22, -21, -22, -23, -22, -23, -22, -21, -22, -21, -22, -23, -22,\n",
       "       -23, -22, -21, -22, -23, -22, -21, -20, -21, -22, -21, -22, -23,\n",
       "       -22, -21, -22, -21, -20, -21, -22, -23, -24, -25, -26, -25, -26,\n",
       "       -27, -26, -25, -24, -23, -24, -23, -22, -21, -20, -19, -20, -21,\n",
       "       -22, -23, -24, -25, -26, -25, -26, -27, -26, -25, -24, -23, -24,\n",
       "       -25, -24, -23, -22, -21, -20, -21, -22, -23, -24, -25, -24, -23,\n",
       "       -24, -25, -26, -27, -26, -25, -26, -27, -26, -25, -26, -25, -26,\n",
       "       -27, -28, -27, -28, -27, -26, -25, -26, -27, -28, -29, -28, -29,\n",
       "       -30, -29, -28, -29, -30, -31, -30, -29, -30, -31, -30, -31, -30,\n",
       "       -29, -30, -29, -30, -29, -28, -29, -28, -29, -30, -31, -32, -31,\n",
       "       -30, -31, -30, -31, -30, -29, -28, -29, -30, -29, -28, -27, -26,\n",
       "       -27, -28, -29, -30, -29, -30, -29, -28, -27, -28, -27, -26, -27,\n",
       "       -28, -29, -28, -29, -30, -31, -30, -29, -28, -27, -28, -27, -28,\n",
       "       -29, -30, -31, -32, -31, -30, -29, -30, -29, -30, -31, -30, -29,\n",
       "       -30, -29, -30, -31, -30, -31, -30, -29, -30, -29, -30, -31, -32,\n",
       "       -31, -32, -33, -32, -31, -30, -31, -30, -29, -28, -29, -30, -29,\n",
       "       -30, -29, -28, -29, -30, -29, -30, -29, -28, -29, -30, -31, -32,\n",
       "       -31, -32, -33, -34, -35, -34, -33, -32, -31, -30, -31, -32, -31,\n",
       "       -30, -29, -28, -29, -30, -29, -28, -27, -26, -25, -24, -25, -26,\n",
       "       -27, -28, -29, -30, -29, -28, -27, -26, -27, -28, -27, -28, -27,\n",
       "       -28, -27, -26, -25, -26, -25, -24, -25, -24, -23, -24, -23, -22,\n",
       "       -23, -24, -23, -24, -23, -22, -23, -22, -23, -24, -25, -24, -25,\n",
       "       -26, -27, -28, -29, -28, -27, -26, -25, -26, -25, -24, -25, -24,\n",
       "       -25, -26, -25, -24, -25, -24, -23, -24, -25, -26, -27, -28, -27,\n",
       "       -28, -27, -26, -25, -26, -25, -26, -25, -24, -25, -26, -25, -24,\n",
       "       -25, -26, -25, -26, -25, -24, -25, -24, -23, -24, -25, -24, -25,\n",
       "       -24, -23, -24, -25, -24, -23, -22, -21, -20, -21, -20, -19, -20,\n",
       "       -21, -22, -23, -24, -25, -24, -25, -24, -25, -24, -23, -22, -23,\n",
       "       -22, -21, -22, -23, -22, -21, -20, -19, -18, -17, -18, -17, -18,\n",
       "       -17, -18, -19, -18, -19, -20, -19, -20, -21, -20, -21, -22, -23,\n",
       "       -24, -23, -24, -23, -22, -23, -22, -23, -22, -21, -20, -21, -20,\n",
       "       -21, -22, -21, -20, -19, -20, -19, -20, -21, -20, -21, -22, -21,\n",
       "       -20, -21, -22, -21, -20, -19, -18, -19, -18, -17, -16, -15, -16,\n",
       "       -15, -14, -15, -14, -15, -14, -13, -14, -13, -14, -15, -14, -13,\n",
       "       -12, -13, -12, -11, -12, -11, -12, -13, -14, -13, -12, -11, -10,\n",
       "       -11, -12, -11, -12, -13, -12, -11, -12, -13, -12, -13, -12, -13,\n",
       "       -12, -11, -10, -11, -10,  -9, -10, -11, -12, -11, -12, -11, -12,\n",
       "       -13, -14, -13, -12, -11, -10,  -9, -10,  -9, -10,  -9, -10, -11,\n",
       "       -12, -13, -14, -15, -14, -15, -14, -13, -14, -15, -14, -13, -14,\n",
       "       -15, -14, -15, -14, -15, -16, -15, -16, -17, -18, -17, -16, -17,\n",
       "       -18, -19, -18, -19, -18, -17, -18, -17, -18, -17, -16, -17, -18,\n",
       "       -17, -18, -17, -18, -17, -18, -17, -18, -19, -18, -19, -18, -19,\n",
       "       -20, -19, -18, -17, -16, -15, -14, -13, -12, -13, -12, -11, -12,\n",
       "       -13, -12, -13, -14, -15, -16, -15, -16, -17, -16, -17, -16, -15,\n",
       "       -14, -15, -14, -13, -14, -13, -14, -13, -14, -15, -16, -15, -14,\n",
       "       -15, -16, -15, -16, -17, -16, -15, -14, -13, -14, -13, -12, -13,\n",
       "       -14, -15, -14, -13, -14, -13, -14, -15, -16, -15, -16, -15, -16,\n",
       "       -15, -14, -15, -16, -17, -16, -15, -14, -13, -14, -13, -12, -13,\n",
       "       -14, -13, -12, -11, -10,  -9, -10,  -9,  -8,  -9,  -8,  -7,  -6,\n",
       "        -7,  -8,  -7,  -6,  -7,  -8,  -9, -10, -11, -10, -11, -10,  -9,\n",
       "       -10,  -9,  -8,  -9, -10,  -9,  -8,  -7,  -8,  -9,  -8,  -7,  -8,\n",
       "        -9,  -8,  -7,  -6,  -7,  -6,  -5,  -6,  -5,  -4,  -3,  -4,  -5,\n",
       "        -4,  -5,  -6,  -7,  -6,  -7,  -6,  -5,  -4,  -5,  -6,  -7,  -8,\n",
       "        -7,  -6,  -7,  -6,  -5,  -4,  -3,  -2,  -3,  -2,  -3,  -2,  -3,\n",
       "        -2,  -1,   0,  -1,  -2,  -3,  -4,  -5,  -6,  -5,  -6,  -7,  -8,\n",
       "        -7,  -6,  -5,  -4,  -5,  -4,  -5,  -4,  -5,  -4,  -3,  -4,  -5,\n",
       "        -4,  -3,  -2,  -1,  -2,  -3,  -2,  -3,  -4,  -3,  -2,  -3,  -2,\n",
       "        -1,   0,  -1,   0,   1,   0,   1,   0,  -1,   0,   1,   0,  -1,\n",
       "        -2,  -3,  -4,  -3,  -4,  -3,  -2,  -3,  -4,  -3,  -2,  -3,  -4,\n",
       "        -5,  -4,  -5,  -6,  -5,  -4,  -5,  -6,  -5,  -4,  -5,  -6,  -5,\n",
       "        -6,  -7,  -8,  -7,  -6,  -7,  -6,  -7,  -8,  -7,  -8,  -7,  -6,\n",
       "        -7,  -8,  -9, -10, -11, -10,  -9, -10,  -9, -10,  -9,  -8],\n",
       "      dtype=int32)"
      ]
     },
     "execution_count": 88,
     "metadata": {},
     "output_type": "execute_result"
    }
   ],
   "source": [
    "step = np.where(draws>0,1,-1)\n",
    "walk = np.cumsum(step)\n",
    "walk"
   ]
  },
  {
   "cell_type": "code",
   "execution_count": 89,
   "metadata": {},
   "outputs": [
    {
     "name": "stdout",
     "output_type": "stream",
     "text": [
      "3\n"
     ]
    }
   ],
   "source": [
    "print(np.max(walk))"
   ]
  },
  {
   "cell_type": "code",
   "execution_count": 90,
   "metadata": {},
   "outputs": [
    {
     "name": "stdout",
     "output_type": "stream",
     "text": [
      "-35\n"
     ]
    }
   ],
   "source": [
    "print(np.min(walk))"
   ]
  },
  {
   "cell_type": "code",
   "execution_count": 91,
   "metadata": {},
   "outputs": [
    {
     "data": {
      "text/plain": [
       "55"
      ]
     },
     "execution_count": 91,
     "metadata": {},
     "output_type": "execute_result"
    }
   ],
   "source": [
    "np.argmax(np.abs(walk)>=10)"
   ]
  },
  {
   "cell_type": "code",
   "execution_count": 93,
   "metadata": {},
   "outputs": [
    {
     "data": {
      "image/png": "[encoded data removed]",
      "text/plain": [
       "<Figure size 504x432 with 1 Axes>"
      ]
     },
     "metadata": {
      "needs_background": "light"
     },
     "output_type": "display_data"
    }
   ],
   "source": [
    "import matplotlib.pyplot as plt\n",
    "plt.figure(figsize=(7,6))\n",
    "plt.plot(walk)\n",
    "plt.show()"
   ]
  },
  {
   "cell_type": "code",
   "execution_count": null,
   "metadata": {},
   "outputs": [],
   "source": []
  }
 ],
 "metadata": {
  "kernelspec": {
   "display_name": "Python 3",
   "language": "python",
   "name": "python3"
  },
  "language_info": {
   "codemirror_mode": {
    "name": "ipython",
    "version": 3
   },
   "file_extension": ".py",
   "mimetype": "text/x-python",
   "name": "python",
   "nbconvert_exporter": "python",
   "pygments_lexer": "ipython3",
   "version": "3.7.4"
  }
 },
 "nbformat": 4,
 "nbformat_minor": 2
}
