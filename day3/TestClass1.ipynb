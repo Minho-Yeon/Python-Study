{
 "cells": [
  {
   "cell_type": "code",
   "execution_count": 5,
   "metadata": {},
   "outputs": [],
   "source": [
    "class Product:\n",
    "\n",
    "    #변수, 함수로 구성되어 있다...\n",
    "    \n",
    "    def __init__(self, sn, proName, price, maker):\n",
    "        self.sn = sn\n",
    "        self.proName = proName\n",
    "        self.price = price\n",
    "        self.maker = maker\n",
    "\n",
    "    def setPrice(self, price):\n",
    "        self.price = price\n",
    "        \n",
    "    def getPrice(self):\n",
    "        return self.price\n",
    "\n",
    "    def showProductInfo(self):\n",
    "        print(\"serialNo :\", self.sn, \"name :\",self.proName, \"price :\", self.price, \"maker :\", self.maker)"
   ]
  },
  {
   "cell_type": "code",
   "execution_count": 11,
   "metadata": {},
   "outputs": [
    {
     "name": "stdout",
     "output_type": "stream",
     "text": [
      "serialNo : S_001 name : DRAM price : 200000 maker : SK_Hynix\n",
      "1000000\n"
     ]
    }
   ],
   "source": [
    "pro1 = Product(\"S_001\",\"DRAM\",200000,\"SK_Hynix\")\n",
    "pro1.showProductInfo()\n",
    "pro1.setPrice(1000000)\n",
    "print(pro1.getPrice())"
   ]
  },
  {
   "cell_type": "code",
   "execution_count": 12,
   "metadata": {},
   "outputs": [],
   "source": [
    "import numpy as np\n",
    "import pandas as pd\n",
    "from pandas import DataFrame, Series"
   ]
  },
  {
   "cell_type": "code",
   "execution_count": 15,
   "metadata": {},
   "outputs": [
    {
     "data": {
      "text/html": [
       "<div>\n",
       "<style scoped>\n",
       "    .dataframe tbody tr th:only-of-type {\n",
       "        vertical-align: middle;\n",
       "    }\n",
       "\n",
       "    .dataframe tbody tr th {\n",
       "        vertical-align: top;\n",
       "    }\n",
       "\n",
       "    .dataframe thead th {\n",
       "        text-align: right;\n",
       "    }\n",
       "</style>\n",
       "<table border=\"1\" class=\"dataframe\">\n",
       "  <thead>\n",
       "    <tr style=\"text-align: right;\">\n",
       "      <th></th>\n",
       "      <th>a</th>\n",
       "      <th>b</th>\n",
       "      <th>c</th>\n",
       "      <th>d</th>\n",
       "    </tr>\n",
       "  </thead>\n",
       "  <tbody>\n",
       "    <tr>\n",
       "      <td>0</td>\n",
       "      <td>0.626053</td>\n",
       "      <td>0.020209</td>\n",
       "      <td>0.971951</td>\n",
       "      <td>-1.477942</td>\n",
       "    </tr>\n",
       "    <tr>\n",
       "      <td>1</td>\n",
       "      <td>0.205224</td>\n",
       "      <td>-0.047243</td>\n",
       "      <td>-1.690054</td>\n",
       "      <td>-1.601372</td>\n",
       "    </tr>\n",
       "    <tr>\n",
       "      <td>2</td>\n",
       "      <td>0.797553</td>\n",
       "      <td>-0.985224</td>\n",
       "      <td>0.467694</td>\n",
       "      <td>0.220468</td>\n",
       "    </tr>\n",
       "    <tr>\n",
       "      <td>3</td>\n",
       "      <td>0.369694</td>\n",
       "      <td>2.184539</td>\n",
       "      <td>0.131887</td>\n",
       "      <td>-0.201058</td>\n",
       "    </tr>\n",
       "  </tbody>\n",
       "</table>\n",
       "</div>"
      ],
      "text/plain": [
       "          a         b         c         d\n",
       "0  0.626053  0.020209  0.971951 -1.477942\n",
       "1  0.205224 -0.047243 -1.690054 -1.601372\n",
       "2  0.797553 -0.985224  0.467694  0.220468\n",
       "3  0.369694  2.184539  0.131887 -0.201058"
      ]
     },
     "execution_count": 15,
     "metadata": {},
     "output_type": "execute_result"
    }
   ],
   "source": [
    "df1 = DataFrame(np.random.randn(4,4), columns=list('abcd'))\n",
    "df1"
   ]
  },
  {
   "cell_type": "code",
   "execution_count": 25,
   "metadata": {},
   "outputs": [
    {
     "data": {
      "text/plain": [
       "<matplotlib.axes._subplots.AxesSubplot at 0x209a6996988>"
      ]
     },
     "execution_count": 25,
     "metadata": {},
     "output_type": "execute_result"
    },
    {
     "data": {
      "image/png": "[encoded data removed]",
      "text/plain": [
       "<Figure size 432x288 with 1 Axes>"
      ]
     },
     "metadata": {
      "needs_background": "light"
     },
     "output_type": "display_data"
    }
   ],
   "source": [
    "ser1=Series(np.random.randint(10,20,5))\n",
    "ser1.plot(kind=\"bar\")"
   ]
  },
  {
   "cell_type": "code",
   "execution_count": 26,
   "metadata": {},
   "outputs": [
    {
     "data": {
      "text/plain": [
       "['3', '4', '5', '8', '10']"
      ]
     },
     "execution_count": 26,
     "metadata": {},
     "output_type": "execute_result"
    }
   ],
   "source": [
    "testStr=\"3,4,5,8,10\"\n",
    "testStr.split(',')"
   ]
  },
  {
   "cell_type": "code",
   "execution_count": 1,
   "metadata": {},
   "outputs": [
    {
     "name": "stdout",
     "output_type": "stream",
     "text": [
      "serialNo : S_005 name : DRAM price : 2000000 maker : SK_Hynix\n"
     ]
    }
   ],
   "source": [
    "from productMod import Product\n",
    "p = Product(\"S_005\",\"DRAM\",2000000,\"SK_Hynix\")\n",
    "p.showProductInfo()"
   ]
  },
  {
   "cell_type": "code",
   "execution_count": null,
   "metadata": {},
   "outputs": [],
   "source": []
  }
 ],
 "metadata": {
  "kernelspec": {
   "display_name": "Python 3",
   "language": "python",
   "name": "python3"
  },
  "language_info": {
   "codemirror_mode": {
    "name": "ipython",
    "version": 3
   },
   "file_extension": ".py",
   "mimetype": "text/x-python",
   "name": "python",
   "nbconvert_exporter": "python",
   "pygments_lexer": "ipython3",
   "version": "3.7.4"
  }
 },
 "nbformat": 4,
 "nbformat_minor": 2
}
