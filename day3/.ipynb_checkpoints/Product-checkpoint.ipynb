{
 "cells": [
  {
   "cell_type": "code",
   "execution_count": 1,
   "metadata": {},
   "outputs": [],
   "source": [
    "class Product:\n",
    "\n",
    "    #변수, 함수로 구성되어 있다...\n",
    "    \n",
    "    def __init__(self, sn, proName, price, maker):\n",
    "        self.sn = sn\n",
    "        self.proName = proName\n",
    "        self.price = price\n",
    "        self.maker = maker\n",
    "\n",
    "    def setPrice(self, price):\n",
    "        self.price = price\n",
    "        \n",
    "    def getPrice(self):\n",
    "        return self.price\n",
    "\n",
    "    def showProductInfo(self):\n",
    "        print(\"serialNo :\", self.sn, \"name :\",self.proName, \"price :\", self.price, \"maker :\", self.maker)"
   ]
  },
  {
   "cell_type": "code",
   "execution_count": 2,
   "metadata": {},
   "outputs": [],
   "source": [
    "class Employee:\n",
    "    #변수, 함수...\n",
    "    numCount = 0\n",
    "    posSal_dict = {\"사원\": 30000000, \"대리\": 40000000, \"과장\": 50000000}\n",
    "    grade_dict = {\"A\": 1.4, \"B\": 1.0, \"C\": 0.8, \"D\": 0.6}\n",
    "\n",
    "    #Employee의 속성을 정의해 보자... empId, empName, dept, position\n",
    "    #Employee의 함수 : doWork(job), showEmployeeInfo(), getMySalary(workYear, score)\n",
    "    #Employee 객체를 초기화 할때 사용하는 함수 정의 : __init__(id, name, dpet, pos)\n",
    "    def __init__(self, id, name, dept, pos, score):\n",
    "        self.empId = id\n",
    "        self.empName = name\n",
    "        self.dept = dept\n",
    "        self.position = pos\n",
    "        self.score = score\n",
    "        Employee.numCount = Employee.numCount + 1\n",
    "\n",
    "    def doWork(self, job):\n",
    "        print(self.empName,\" 가 \", job,\"일을 합니다...\")\n",
    "\n",
    "    def showEmployeeInfo(self):\n",
    "        print(\"=\"* 30, \"직원정보\", \"=\"* 30)\n",
    "        print(\"이름 :\", self.empName, \"사번 :\", self.empId, \"부서 : \", self.dept, \"직급 :\", self.position)\n",
    "\n",
    "    # position별 연봉 : 사원 : 30000000, 대리 40000000, 과장 50000000\n",
    "    # 가중치 : A : 1.4, B : 1.0, C: 0.8, D: 0.6\n",
    "    # 구현해서 해당 연봉을 리턴할 것...\n",
    "    '''\n",
    "    def getMySalary(self, pos, grade):\n",
    "        return Employee.posSal_dict[pos] * Employee.grade_dict[grade]\n",
    "    '''\n",
    "    def getMySalary(self):\n",
    "        return Employee.posSal_dict[self.position] * Employee.grade_dict[self.score]\n"
   ]
  },
  {
   "cell_type": "code",
   "execution_count": 9,
   "metadata": {},
   "outputs": [],
   "source": [
    "class Student:\n",
    "    \n",
    "    def __init__(self, id, name, ko, eng, math):\n",
    "        self.id = id\n",
    "        self.name = name\n",
    "        self.ko = ko\n",
    "        self.eng = eng\n",
    "        self.math = math\n",
    "    \n",
    "    def getTotal(self):\n",
    "        return self.ko+self.eng+self.math\n",
    "    \n",
    "    def setName(self, name):\n",
    "        self.name = name\n",
    "    \n",
    "    def getName(self):\n",
    "        return self.name\n",
    "    \n",
    "    def getAverage(self):\n",
    "        return self.getTotal() / 3\n",
    "        \n",
    "    def showStuInfo(self):\n",
    "        print('학번 %s, 이름 %s, 국영수 총점 %d, 국영수 평균 %.2f' %(self.id, self.name, self.getTotal(), self.getAverage()))\n",
    "    \n",
    "    "
   ]
  },
  {
   "cell_type": "code",
   "execution_count": 10,
   "metadata": {},
   "outputs": [
    {
     "name": "stdout",
     "output_type": "stream",
     "text": [
      "학번 1, 이름 홍길동, 국영수 총점 260, 국영수 평균 86.67\n"
     ]
    }
   ],
   "source": [
    "stu1 = Student('1','홍길동',90,90,80)\n",
    "stu1.showStuInfo()"
   ]
  },
  {
   "cell_type": "code",
   "execution_count": null,
   "metadata": {},
   "outputs": [],
   "source": []
  }
 ],
 "metadata": {
  "kernelspec": {
   "display_name": "Python 3",
   "language": "python",
   "name": "python3"
  },
  "language_info": {
   "codemirror_mode": {
    "name": "ipython",
    "version": 3
   },
   "file_extension": ".py",
   "mimetype": "text/x-python",
   "name": "python",
   "nbconvert_exporter": "python",
   "pygments_lexer": "ipython3",
   "version": "3.7.4"
  }
 },
 "nbformat": 4,
 "nbformat_minor": 2
}
