{
 "cells": [
  {
   "cell_type": "code",
   "execution_count": null,
   "metadata": {},
   "outputs": [],
   "source": [
    "class Product:\n",
    "\n",
    "    #모듈로 만들어서 TestClass1에서 호출해서 사용해 보세요...\n",
    "    \n",
    "    def __init__(self, sn, proName, price, maker):\n",
    "        self.sn = sn\n",
    "        self.proName = proName\n",
    "        self.price = price\n",
    "        self.maker = maker\n",
    "\n",
    "    def setPrice(self, price):\n",
    "        self.price = price\n",
    "        \n",
    "    def getPrice(self):\n",
    "        return self.price\n",
    "\n",
    "    def showProductInfo(self):\n",
    "        print(\"serialNo :\", self.serialNo, \"name :\",self.proName, \"price :\", self.price, \"maker :\", self.maker)"
   ]
  }
 ],
 "metadata": {
  "kernelspec": {
   "display_name": "Python 3",
   "language": "python",
   "name": "python3"
  },
  "language_info": {
   "codemirror_mode": {
    "name": "ipython",
    "version": 3
   },
   "file_extension": ".py",
   "mimetype": "text/x-python",
   "name": "python",
   "nbconvert_exporter": "python",
   "pygments_lexer": "ipython3",
   "version": "3.7.4"
  }
 },
 "nbformat": 4,
 "nbformat_minor": 2
}
