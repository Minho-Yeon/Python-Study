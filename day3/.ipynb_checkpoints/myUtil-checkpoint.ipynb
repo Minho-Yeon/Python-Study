{
 "cells": [
  {
   "cell_type": "code",
   "execution_count": 23,
   "metadata": {},
   "outputs": [
    {
     "name": "stdout",
     "output_type": "stream",
     "text": [
      "Overwriting myUtil.py\n"
     ]
    }
   ],
   "source": [
    "%%writefile myUtil.py\n",
    "\n",
    "class NotCorrectInput(Exception):\n",
    "    def __init__(self,message):\n",
    "        self.message=message\n",
    "def checkValue():\n",
    "    data = {'a':'alpha',\"b\":'bravo',\"c\":'charlie'}\n",
    "    input_str = input(\"체크할 문자 값을 입력해주세요.(Ex: a,b,c) : \")\n",
    "    \n",
    "    print(data[input_str])\n",
    "#         raise NotCorrectInput('받아 들일 수 없는 문자 %s가 입력되었습니다.\\n'%input_str)\n",
    "\n",
    "def checkNum():\n",
    "    input_num = int(input(\"양의 정수를 입력해주세요.(Ex: 10, 25) : \"))\n",
    "    if input_num<0:\n",
    "       raise NotCorrectInput(\"음의 정수를 입력하지 마세요.\")\n",
    "    print(\"{:.3f}\\n\".format(1/input_num))\n",
    "\n",
    "if __name__=='__main__':\n",
    "    checkNum()"
   ]
  },
  {
   "cell_type": "code",
   "execution_count": null,
   "metadata": {},
   "outputs": [],
   "source": []
  },
  {
   "cell_type": "code",
   "execution_count": null,
   "metadata": {},
   "outputs": [],
   "source": []
  }
 ],
 "metadata": {
  "kernelspec": {
   "display_name": "Python 3",
   "language": "python",
   "name": "python3"
  },
  "language_info": {
   "codemirror_mode": {
    "name": "ipython",
    "version": 3
   },
   "file_extension": ".py",
   "mimetype": "text/x-python",
   "name": "python",
   "nbconvert_exporter": "python",
   "pygments_lexer": "ipython3",
   "version": "3.7.4"
  }
 },
 "nbformat": 4,
 "nbformat_minor": 2
}
