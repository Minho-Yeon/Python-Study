{
 "cells": [
  {
   "cell_type": "code",
   "execution_count": 19,
   "metadata": {},
   "outputs": [
    {
     "name": "stdout",
     "output_type": "stream",
     "text": [
      "---1. 프로그램 시작\n",
      "S_001,DRAM1,4G,50000,SK_Hynix\n",
      "S_002,DRAM2,4G,50000,SK_Hynix\n",
      "S_003,DRAM3,8G,150000,SK_Hynix\n",
      "S_004,DRAM4,16G,350000,SK_Hynix\n",
      "S_005,DRAM5,4G,50000,SK_Hynix\n",
      "---2.\n",
      "---3_1.finally실행..\n",
      "---4. 프로그램 종료\n"
     ]
    }
   ],
   "source": [
    "print('---1. 프로그램 시작')\n",
    "try:\n",
    "    f=open('product.dat')\n",
    "    for i in f:\n",
    "        print(i.strip())\n",
    "    print(\"---2.\")\n",
    "except FileNotFoundError as e:\n",
    "    print('---3. 예외 발생')\n",
    "    print(e)\n",
    "finally:\n",
    "    print('---3_1.finally실행..')\n",
    "    if f != None:\n",
    "        f.close()\n",
    "print('---4. 프로그램 종료')"
   ]
  },
  {
   "cell_type": "code",
   "execution_count": 26,
   "metadata": {},
   "outputs": [
    {
     "name": "stdout",
     "output_type": "stream",
     "text": [
      "2~9단만 출력 가능해요.\n"
     ]
    }
   ],
   "source": [
    "class MyException(Exception):\n",
    "    def __init__(self,message):\n",
    "        self.message=message\n",
    "def printGugudan(dan):\n",
    "    if dan<2 or dan>9:\n",
    "        raise MyException(\"2~9단만 출력 가능해요.\")\n",
    "    for i in range(1,10):\n",
    "        print(\"{0}*{1}={2}\".format(dan,i,dan*i))\n",
    "\n",
    "try:\n",
    "    printGugudan(1)\n",
    "except MyException as e:\n",
    "    print(e)"
   ]
  },
  {
   "cell_type": "code",
   "execution_count": 32,
   "metadata": {},
   "outputs": [
    {
     "name": "stdout",
     "output_type": "stream",
     "text": [
      "A-B\n"
     ]
    }
   ],
   "source": [
    "print(\"{0[0]}-{0[1]}\".format(['A','B']))"
   ]
  },
  {
   "cell_type": "code",
   "execution_count": 59,
   "metadata": {},
   "outputs": [
    {
     "name": "stdout",
     "output_type": "stream",
     "text": [
      "1010\n"
     ]
    }
   ],
   "source": [
    "print(\"{0:b}\".format(10))"
   ]
  },
  {
   "cell_type": "code",
   "execution_count": null,
   "metadata": {},
   "outputs": [],
   "source": []
  }
 ],
 "metadata": {
  "kernelspec": {
   "display_name": "Python 3",
   "language": "python",
   "name": "python3"
  },
  "language_info": {
   "codemirror_mode": {
    "name": "ipython",
    "version": 3
   },
   "file_extension": ".py",
   "mimetype": "text/x-python",
   "name": "python",
   "nbconvert_exporter": "python",
   "pygments_lexer": "ipython3",
   "version": "3.7.4"
  }
 },
 "nbformat": 4,
 "nbformat_minor": 2
}
