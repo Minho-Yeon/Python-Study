{
 "cells": [
  {
   "cell_type": "code",
   "execution_count": null,
   "metadata": {},
   "outputs": [],
   "source": [
    "import myUtil as mu\n",
    "\n",
    "while True:\n",
    "    input_str = input(\"옵션을 선택해주세요 . \\n1번 : checkValue 테스트, 2번: checkNum 테스트, Q: quit\\n입력 : \").upper()\n",
    "    if input_str=='1':\n",
    "        try:\n",
    "            mu.checkValue()\n",
    "        except KeyError:\n",
    "            print(\"받아 들일 수 없는 문자가 입력되었습니다.\")\n",
    "    elif input_str =='2':\n",
    "        try:\n",
    "            mu.checkNum()\n",
    "        except mu.NotCorrectInput as e:\n",
    "            print(e)\n",
    "        except ZeroDivisionError as 3:\n",
    "            print(e)\n",
    "            print(\"0을 입력하지 마세요.\")\n",
    "        except ValueError:\n",
    "            print(\"문자를 입력하지 마세요.\")\n",
    "    elif input_str =='Q':\n",
    "        print(\"프로그램을 종료합니다.......\")\n",
    "        break;"
   ]
  },
  {
   "cell_type": "code",
   "execution_count": null,
   "metadata": {},
   "outputs": [],
   "source": []
  }
 ],
 "metadata": {
  "kernelspec": {
   "display_name": "Python 3",
   "language": "python",
   "name": "python3"
  },
  "language_info": {
   "codemirror_mode": {
    "name": "ipython",
    "version": 3
   },
   "file_extension": ".py",
   "mimetype": "text/x-python",
   "name": "python",
   "nbconvert_exporter": "python",
   "pygments_lexer": "ipython3",
   "version": "3.7.4"
  }
 },
 "nbformat": 4,
 "nbformat_minor": 2
}
